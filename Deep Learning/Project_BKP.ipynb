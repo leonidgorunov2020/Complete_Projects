{
 "cells": [
  {
   "cell_type": "code",
   "execution_count": 2,
   "id": "2f4c931d",
   "metadata": {},
   "outputs": [],
   "source": [
    "import matplotlib.pyplot as plt\n",
    "import pandas as pd\n",
    "import numpy as np\n",
    "\n",
    "import PIL, cv2, os, imghdr\n",
    "\n",
    "import tensorflow as tf\n",
    "\n",
    "from tensorflow import keras\n",
    "from tensorflow.keras import layers\n",
    "from tensorflow.keras.models import Sequential, load_model\n",
    "from tensorflow.keras.layers import Input, Conv2D, BatchNormalization, ReLU, Add, GlobalAveragePooling2D, Dense\n",
    "from tensorflow.keras.callbacks import EarlyStopping, LearningRateScheduler\n",
    "from tensorflow.keras import regularizers\n",
    "\n",
    "\n",
    "import os\n",
    "os.environ['TF_CPP_MIN_LOG_LEVEL'] = '3' \n",
    "os.environ['TF_DETERMINISTIC_OPS'] = '1'"
   ]
  },
  {
   "cell_type": "code",
   "execution_count": 3,
   "id": "a0a5a02e",
   "metadata": {},
   "outputs": [],
   "source": [
    "np.random.seed(42)\n",
    "tf.random.set_seed(42)\n",
    "data_dir = 'datasets/flower_photos' "
   ]
  },
  {
   "cell_type": "code",
   "execution_count": 4,
   "id": "ebcc8584",
   "metadata": {},
   "outputs": [],
   "source": [
    "image_exts = ['jpeg','jpg', 'bmp', 'png']"
   ]
  },
  {
   "cell_type": "code",
   "execution_count": 5,
   "id": "b729b1a1",
   "metadata": {},
   "outputs": [],
   "source": [
    "for image_class in os.listdir(data_dir): \n",
    "    for image in os.listdir(os.path.join(data_dir, image_class)):\n",
    "        image_path = os.path.join(data_dir, image_class, image)\n",
    "        try: \n",
    "            img = cv2.imread(image_path)\n",
    "            tip = imghdr.what(image_path)\n",
    "            if tip not in image_exts:\n",
    "                print('Image not in ext list {}'.format(image_path))\n",
    "                os.remove(image_path)\n",
    "        except Exception as e: \n",
    "            print('Issue with image {}'.format(image_path))\n",
    "            # os.remove(image_path)"
   ]
  },
  {
   "cell_type": "code",
   "execution_count": 33,
   "id": "a6a0ba34",
   "metadata": {},
   "outputs": [],
   "source": [
    "def generate_image_data(img_x, img_y, data_dir, seed=42):\n",
    "    '''\n",
    "    Based of X, y and image location, returns dataset\n",
    "    '''\n",
    "    tf.random.set_seed(seed)\n",
    "    data = tf.keras.utils.image_dataset_from_directory(data_dir, image_size=(img_x, img_y))\n",
    "    data = data.map(lambda x, y: (x/255, y))\n",
    "    return data\n",
    "\n",
    "def generate_train_val_test(data, seed=42):\n",
    "    tf.random.set_seed(seed)\n",
    "    train_size = int(len(data) * 0.7)\n",
    "    val_size = int(len(data) * 0.1)\n",
    "    test_size = int(len(data) * 0.2)\n",
    "    \n",
    "    train = data.take(train_size)\n",
    "    val = data.skip(train_size).take(val_size)\n",
    "    test = data.skip(train_size + val_size).take(test_size)\n",
    "    return train, val, test\n",
    "\n",
    "def apply_augmentation(img_x, img_y, factor, seed=42):\n",
    "    tf.random.set_seed(seed)\n",
    "    data_augmentation = keras.Sequential(\n",
    "        [\n",
    "            layers.experimental.preprocessing.RandomFlip(\"horizontal\", input_shape=(img_x, img_y, 3)),\n",
    "            layers.experimental.preprocessing.RandomRotation(factor),\n",
    "            layers.experimental.preprocessing.RandomZoom(factor),\n",
    "        ]\n",
    "    )\n",
    "    return data_augmentation\n",
    "\n",
    "def lr_scheduler(epoch, lr):\n",
    "    if epoch < 7:\n",
    "        return lr\n",
    "    return lr * tf.math.exp(-0.1)"
   ]
  },
  {
   "cell_type": "markdown",
   "id": "d9072f04",
   "metadata": {},
   "source": [
    "# Experiment 1 (VGG like model)"
   ]
  },
  {
   "cell_type": "code",
   "execution_count": 48,
   "id": "bab2f893",
   "metadata": {},
   "outputs": [],
   "source": [
    "img_dim = 128"
   ]
  },
  {
   "cell_type": "code",
   "execution_count": 52,
   "id": "7547913a",
   "metadata": {},
   "outputs": [
    {
     "name": "stdout",
     "output_type": "stream",
     "text": [
      "Found 5179 files belonging to 5 classes.\n"
     ]
    }
   ],
   "source": [
    "data = generate_image_data(img_dim, img_dim, data_dir, seed=42)"
   ]
  },
  {
   "cell_type": "code",
   "execution_count": 95,
   "id": "58a70b53",
   "metadata": {},
   "outputs": [],
   "source": [
    "train, val, test = generate_train_val_test(data, seed=42)"
   ]
  },
  {
   "cell_type": "code",
   "execution_count": 54,
   "id": "a1b95768",
   "metadata": {},
   "outputs": [],
   "source": [
    "data_augmentation = apply_augmentation(img_dim, img_dim, 0.1, seed=42)"
   ]
  },
  {
   "cell_type": "code",
   "execution_count": 55,
   "id": "06282b89",
   "metadata": {},
   "outputs": [],
   "source": [
    "logdir='logs'"
   ]
  },
  {
   "cell_type": "code",
   "execution_count": 56,
   "id": "9db09e84",
   "metadata": {},
   "outputs": [],
   "source": [
    "tensorboard_callback = tf.keras.callbacks.TensorBoard(log_dir=logdir)"
   ]
  },
  {
   "cell_type": "code",
   "execution_count": 62,
   "id": "03bec654",
   "metadata": {},
   "outputs": [],
   "source": [
    "tf.keras.backend.clear_session()"
   ]
  },
  {
   "cell_type": "code",
   "execution_count": 63,
   "id": "89eb68fa",
   "metadata": {},
   "outputs": [],
   "source": [
    "num_classes = 5\n",
    "batch_size = 32\n",
    "epochs = 30\n",
    "tf.random.set_seed(42)"
   ]
  },
  {
   "cell_type": "code",
   "execution_count": 64,
   "id": "ee1b50a2",
   "metadata": {},
   "outputs": [],
   "source": [
    "lr_schedule = LearningRateScheduler(lr_scheduler)\n",
    "\n",
    "model = Sequential([\n",
    "    data_augmentation,\n",
    "\n",
    "    layers.Conv2D(64, 3, padding='same', activation='relu'),\n",
    "    layers.MaxPooling2D(),\n",
    "    \n",
    "    layers.Conv2D(32, 3, padding='same', activation='relu'),\n",
    "    layers.MaxPooling2D(),\n",
    "    \n",
    "    layers.Conv2D(16, 3, padding='same', activation='relu'),\n",
    "    layers.MaxPooling2D(),\n",
    "    \n",
    "    \n",
    "    layers.Flatten(),\n",
    "\n",
    "    \n",
    "    layers.Dense(64, activation='relu'),\n",
    "    layers.Dropout(0.1),\n",
    "    layers.Dense(32, activation='relu'),\n",
    "    layers.Dropout(0.4),\n",
    "#     layers.Dense(16, activation='relu'),\n",
    "\n",
    "    \n",
    "    layers.Dense(num_classes)\n",
    "])"
   ]
  },
  {
   "cell_type": "code",
   "execution_count": 65,
   "id": "287252d3",
   "metadata": {},
   "outputs": [
    {
     "name": "stdout",
     "output_type": "stream",
     "text": [
      "Model: \"sequential\"\n",
      "_________________________________________________________________\n",
      " Layer (type)                Output Shape              Param #   \n",
      "=================================================================\n",
      " sequential_2 (Sequential)   (None, 128, 128, 3)       0         \n",
      "                                                                 \n",
      " conv2d (Conv2D)             (None, 128, 128, 64)      1792      \n",
      "                                                                 \n",
      " max_pooling2d (MaxPooling2  (None, 64, 64, 64)        0         \n",
      " D)                                                              \n",
      "                                                                 \n",
      " conv2d_1 (Conv2D)           (None, 64, 64, 32)        18464     \n",
      "                                                                 \n",
      " max_pooling2d_1 (MaxPoolin  (None, 32, 32, 32)        0         \n",
      " g2D)                                                            \n",
      "                                                                 \n",
      " conv2d_2 (Conv2D)           (None, 32, 32, 16)        4624      \n",
      "                                                                 \n",
      " max_pooling2d_2 (MaxPoolin  (None, 16, 16, 16)        0         \n",
      " g2D)                                                            \n",
      "                                                                 \n",
      " flatten (Flatten)           (None, 4096)              0         \n",
      "                                                                 \n",
      " dense (Dense)               (None, 64)                262208    \n",
      "                                                                 \n",
      " dropout (Dropout)           (None, 64)                0         \n",
      "                                                                 \n",
      " dense_1 (Dense)             (None, 32)                2080      \n",
      "                                                                 \n",
      " dropout_1 (Dropout)         (None, 32)                0         \n",
      "                                                                 \n",
      " dense_2 (Dense)             (None, 5)                 165       \n",
      "                                                                 \n",
      "=================================================================\n",
      "Total params: 289333 (1.10 MB)\n",
      "Trainable params: 289333 (1.10 MB)\n",
      "Non-trainable params: 0 (0.00 Byte)\n",
      "_________________________________________________________________\n"
     ]
    }
   ],
   "source": [
    "model.summary()"
   ]
  },
  {
   "cell_type": "code",
   "execution_count": 66,
   "id": "c2bdaa36",
   "metadata": {},
   "outputs": [
    {
     "name": "stdout",
     "output_type": "stream",
     "text": [
      "Epoch 1/30\n",
      "113/113 [==============================] - 75s 651ms/step - loss: 1.4131 - accuracy: 0.3825 - val_loss: 1.2197 - val_accuracy: 0.4629\n",
      "Epoch 2/30\n",
      "113/113 [==============================] - 73s 648ms/step - loss: 1.2142 - accuracy: 0.5086 - val_loss: 1.0250 - val_accuracy: 0.6230\n",
      "Epoch 3/30\n",
      "113/113 [==============================] - 73s 644ms/step - loss: 1.0896 - accuracy: 0.5929 - val_loss: 0.8945 - val_accuracy: 0.6602\n",
      "Epoch 4/30\n",
      "113/113 [==============================] - 73s 646ms/step - loss: 0.9883 - accuracy: 0.6264 - val_loss: 0.7870 - val_accuracy: 0.7090\n",
      "Epoch 5/30\n",
      "113/113 [==============================] - 73s 643ms/step - loss: 0.9160 - accuracy: 0.6634 - val_loss: 0.7815 - val_accuracy: 0.6895\n",
      "Epoch 6/30\n",
      "113/113 [==============================] - 72s 638ms/step - loss: 0.8505 - accuracy: 0.6889 - val_loss: 0.7267 - val_accuracy: 0.7266\n",
      "Epoch 7/30\n",
      "113/113 [==============================] - 73s 648ms/step - loss: 0.7827 - accuracy: 0.7273 - val_loss: 0.6763 - val_accuracy: 0.7559\n",
      "Epoch 8/30\n",
      "113/113 [==============================] - 73s 641ms/step - loss: 0.7887 - accuracy: 0.7140 - val_loss: 0.7072 - val_accuracy: 0.7695\n",
      "Epoch 9/30\n",
      "113/113 [==============================] - 72s 636ms/step - loss: 0.7427 - accuracy: 0.7417 - val_loss: 0.6348 - val_accuracy: 0.7773\n",
      "Epoch 10/30\n",
      "113/113 [==============================] - 72s 638ms/step - loss: 0.6956 - accuracy: 0.7541 - val_loss: 0.6717 - val_accuracy: 0.7324\n",
      "Epoch 11/30\n",
      "113/113 [==============================] - 72s 638ms/step - loss: 0.6691 - accuracy: 0.7683 - val_loss: 0.6377 - val_accuracy: 0.7773\n",
      "Epoch 12/30\n",
      "113/113 [==============================] - 73s 645ms/step - loss: 0.6527 - accuracy: 0.7677 - val_loss: 0.6432 - val_accuracy: 0.7480\n"
     ]
    }
   ],
   "source": [
    "optimizer = tf.keras.optimizers.Adam(learning_rate=0.0015)\n",
    "model.compile(optimizer=optimizer,\n",
    "              loss=tf.keras.losses.SparseCategoricalCrossentropy(from_logits=True),\n",
    "              metrics=['accuracy'])\n",
    "\n",
    "early_stopping = EarlyStopping(monitor='val_loss', patience=3, restore_best_weights=True)\n",
    "\n",
    "hist_aug = model.fit(train,  epochs=epochs, batch_size = batch_size, validation_data=val,\\\n",
    "                     callbacks=[tensorboard_callback, early_stopping])\n"
   ]
  },
  {
   "cell_type": "code",
   "execution_count": 67,
   "id": "14b2a7b0",
   "metadata": {},
   "outputs": [
    {
     "name": "stdout",
     "output_type": "stream",
     "text": [
      "32/32 [==============================] - 8s 150ms/step - loss: 0.7033 - accuracy: 0.7500\n"
     ]
    },
    {
     "data": {
      "text/plain": [
       "[0.7033061385154724, 0.75]"
      ]
     },
     "execution_count": 67,
     "metadata": {},
     "output_type": "execute_result"
    }
   ],
   "source": [
    "model.evaluate(test)"
   ]
  },
  {
   "cell_type": "code",
   "execution_count": 68,
   "id": "92d76e04",
   "metadata": {},
   "outputs": [
    {
     "data": {
      "image/png": "[encoded data removed]",
      "text/plain": [
       "<Figure size 640x480 with 1 Axes>"
      ]
     },
     "metadata": {},
     "output_type": "display_data"
    }
   ],
   "source": [
    "fig = plt.figure()\n",
    "plt.plot(hist_aug.history['loss'], color='teal', label='loss')\n",
    "plt.plot(hist_aug.history['val_loss'], color='orange', label='val_loss')\n",
    "fig.suptitle('Loss', fontsize=20)\n",
    "plt.legend(loc=\"upper left\")\n",
    "plt.show()"
   ]
  },
  {
   "cell_type": "code",
   "execution_count": 69,
   "id": "69e46188",
   "metadata": {},
   "outputs": [
    {
     "data": {
      "image/png": "[encoded data removed]",
      "text/plain": [
       "<Figure size 640x480 with 1 Axes>"
      ]
     },
     "metadata": {},
     "output_type": "display_data"
    }
   ],
   "source": [
    "fig = plt.figure()\n",
    "plt.plot(hist_aug.history['accuracy'], color='teal', label='accuracy')\n",
    "plt.plot(hist_aug.history['val_accuracy'], color='orange', label='val_accuracy')\n",
    "fig.suptitle('Accuracy', fontsize=20)\n",
    "plt.legend(loc=\"upper left\")\n",
    "plt.show()"
   ]
  },
  {
   "cell_type": "code",
   "execution_count": 70,
   "id": "d2480b4a",
   "metadata": {},
   "outputs": [],
   "source": [
    "model.save('saved_models/model_aug.keras')"
   ]
  },
  {
   "cell_type": "code",
   "execution_count": null,
   "id": "156782ff",
   "metadata": {},
   "outputs": [],
   "source": [
    "model.weights"
   ]
  },
  {
   "cell_type": "code",
   "execution_count": 91,
   "id": "d16311c3",
   "metadata": {},
   "outputs": [],
   "source": [
    "loaded_model = load_model('saved_models/model_aug.keras')"
   ]
  },
  {
   "cell_type": "code",
   "execution_count": 92,
   "id": "a6675132",
   "metadata": {},
   "outputs": [],
   "source": [
    "from tensorflow.keras.applications.vgg16 import preprocess_input\n",
    "image_path = './test_images/rose_1.jpeg'   \n",
    "image = cv2.imread(image_path)\n",
    "resized_image = cv2.resize(image, (128, 128))\n",
    "resized_image = np.expand_dims(resized_image, axis=0)\n"
   ]
  },
  {
   "cell_type": "code",
   "execution_count": 93,
   "id": "a801e1e5",
   "metadata": {},
   "outputs": [
    {
     "name": "stdout",
     "output_type": "stream",
     "text": [
      "1/1 [==============================] - 0s 88ms/step\n"
     ]
    }
   ],
   "source": [
    "preprocessed_image = preprocess_input(resized_image)\n",
    "predictions = loaded_model.predict(preprocessed_image)"
   ]
  },
  {
   "cell_type": "code",
   "execution_count": 94,
   "id": "d744bff7",
   "metadata": {},
   "outputs": [
    {
     "data": {
      "text/plain": [
       "2"
      ]
     },
     "execution_count": 94,
     "metadata": {},
     "output_type": "execute_result"
    }
   ],
   "source": [
    "\n",
    "np.argmax(predictions)"
   ]
  },
  {
   "cell_type": "code",
   "execution_count": 97,
   "id": "266ab236",
   "metadata": {
    "scrolled": true
   },
   "outputs": [
    {
     "name": "stdout",
     "output_type": "stream",
     "text": [
      "1/1 [==============================] - 0s 209ms/step\n",
      "1/1 [==============================] - 0s 157ms/step\n",
      "1/1 [==============================] - 0s 155ms/step\n",
      "1/1 [==============================] - 0s 159ms/step\n",
      "1/1 [==============================] - 0s 158ms/step\n",
      "1/1 [==============================] - 0s 167ms/step\n",
      "1/1 [==============================] - 0s 162ms/step\n",
      "1/1 [==============================] - 0s 177ms/step\n",
      "1/1 [==============================] - 0s 155ms/step\n",
      "1/1 [==============================] - 0s 155ms/step\n",
      "1/1 [==============================] - 0s 166ms/step\n",
      "1/1 [==============================] - 0s 154ms/step\n",
      "1/1 [==============================] - 0s 155ms/step\n",
      "1/1 [==============================] - 0s 158ms/step\n",
      "1/1 [==============================] - 0s 162ms/step\n",
      "1/1 [==============================] - 0s 166ms/step\n",
      "1/1 [==============================] - 0s 174ms/step\n",
      "1/1 [==============================] - 0s 187ms/step\n",
      "1/1 [==============================] - 0s 173ms/step\n",
      "1/1 [==============================] - 0s 187ms/step\n",
      "1/1 [==============================] - 0s 186ms/step\n",
      "1/1 [==============================] - 0s 194ms/step\n",
      "1/1 [==============================] - 0s 156ms/step\n",
      "1/1 [==============================] - 0s 155ms/step\n",
      "1/1 [==============================] - 0s 202ms/step\n",
      "1/1 [==============================] - 0s 194ms/step\n",
      "1/1 [==============================] - 0s 156ms/step\n",
      "1/1 [==============================] - 0s 155ms/step\n",
      "1/1 [==============================] - 0s 157ms/step\n",
      "1/1 [==============================] - 0s 194ms/step\n",
      "1/1 [==============================] - 0s 170ms/step\n",
      "1/1 [==============================] - 0s 156ms/step\n",
      "1/1 [==============================] - 0s 162ms/step\n",
      "1/1 [==============================] - 0s 175ms/step\n",
      "1/1 [==============================] - 0s 156ms/step\n",
      "1/1 [==============================] - 0s 157ms/step\n",
      "1/1 [==============================] - 0s 155ms/step\n",
      "1/1 [==============================] - 0s 155ms/step\n",
      "1/1 [==============================] - 0s 156ms/step\n",
      "1/1 [==============================] - 0s 156ms/step\n",
      "1/1 [==============================] - 0s 156ms/step\n",
      "1/1 [==============================] - 0s 155ms/step\n",
      "1/1 [==============================] - 0s 156ms/step\n",
      "1/1 [==============================] - 0s 155ms/step\n",
      "1/1 [==============================] - 0s 164ms/step\n",
      "1/1 [==============================] - 0s 164ms/step\n",
      "1/1 [==============================] - 0s 175ms/step\n",
      "1/1 [==============================] - 0s 155ms/step\n",
      "1/1 [==============================] - 0s 157ms/step\n",
      "1/1 [==============================] - 0s 156ms/step\n",
      "1/1 [==============================] - 0s 156ms/step\n",
      "1/1 [==============================] - 0s 154ms/step\n",
      "1/1 [==============================] - 0s 157ms/step\n",
      "1/1 [==============================] - 0s 194ms/step\n",
      "1/1 [==============================] - 0s 171ms/step\n",
      "1/1 [==============================] - 0s 155ms/step\n",
      "1/1 [==============================] - 0s 159ms/step\n",
      "1/1 [==============================] - 0s 156ms/step\n",
      "1/1 [==============================] - 0s 156ms/step\n",
      "1/1 [==============================] - 0s 155ms/step\n",
      "1/1 [==============================] - 0s 156ms/step\n",
      "1/1 [==============================] - 0s 155ms/step\n",
      "1/1 [==============================] - 0s 157ms/step\n",
      "1/1 [==============================] - 0s 179ms/step\n",
      "1/1 [==============================] - 0s 176ms/step\n",
      "1/1 [==============================] - 0s 180ms/step\n",
      "1/1 [==============================] - 0s 156ms/step\n",
      "1/1 [==============================] - 0s 156ms/step\n",
      "1/1 [==============================] - 0s 158ms/step\n",
      "1/1 [==============================] - 0s 155ms/step\n",
      "1/1 [==============================] - 0s 155ms/step\n",
      "1/1 [==============================] - 0s 155ms/step\n",
      "1/1 [==============================] - 0s 155ms/step\n",
      "1/1 [==============================] - 0s 161ms/step\n",
      "1/1 [==============================] - 0s 180ms/step\n",
      "1/1 [==============================] - 0s 155ms/step\n",
      "1/1 [==============================] - 0s 158ms/step\n",
      "1/1 [==============================] - 0s 155ms/step\n",
      "1/1 [==============================] - 0s 155ms/step\n",
      "1/1 [==============================] - 0s 155ms/step\n",
      "1/1 [==============================] - 0s 155ms/step\n",
      "1/1 [==============================] - 0s 155ms/step\n",
      "1/1 [==============================] - 0s 182ms/step\n",
      "1/1 [==============================] - 0s 179ms/step\n",
      "1/1 [==============================] - 0s 179ms/step\n",
      "1/1 [==============================] - 0s 159ms/step\n",
      "1/1 [==============================] - 0s 158ms/step\n",
      "1/1 [==============================] - 0s 155ms/step\n",
      "1/1 [==============================] - 0s 155ms/step\n",
      "1/1 [==============================] - 0s 155ms/step\n",
      "1/1 [==============================] - 0s 156ms/step\n",
      "1/1 [==============================] - 0s 155ms/step\n",
      "1/1 [==============================] - 0s 158ms/step\n",
      "1/1 [==============================] - 0s 183ms/step\n",
      "1/1 [==============================] - 0s 159ms/step\n",
      "1/1 [==============================] - 0s 158ms/step\n",
      "1/1 [==============================] - 0s 160ms/step\n",
      "1/1 [==============================] - 0s 155ms/step\n",
      "1/1 [==============================] - 0s 156ms/step\n",
      "1/1 [==============================] - 0s 161ms/step\n",
      "1/1 [==============================] - 0s 155ms/step\n",
      "1/1 [==============================] - 0s 155ms/step\n",
      "1/1 [==============================] - 0s 156ms/step\n",
      "1/1 [==============================] - 0s 156ms/step\n",
      "1/1 [==============================] - 0s 156ms/step\n",
      "1/1 [==============================] - 0s 181ms/step\n",
      "1/1 [==============================] - 0s 178ms/step\n",
      "1/1 [==============================] - 0s 156ms/step\n",
      "1/1 [==============================] - 0s 156ms/step\n",
      "1/1 [==============================] - 0s 177ms/step\n",
      "1/1 [==============================] - 0s 154ms/step\n",
      "1/1 [==============================] - 0s 181ms/step\n",
      "1/1 [==============================] - 0s 156ms/step\n",
      "1/1 [==============================] - 0s 181ms/step\n",
      "1/1 [==============================] - 0s 155ms/step\n",
      "1/1 [==============================] - 0s 187ms/step\n",
      "1/1 [==============================] - 0s 159ms/step\n",
      "1/1 [==============================] - 0s 175ms/step\n",
      "1/1 [==============================] - 0s 160ms/step\n",
      "1/1 [==============================] - 0s 167ms/step\n",
      "1/1 [==============================] - 0s 174ms/step\n",
      "1/1 [==============================] - 0s 155ms/step\n",
      "1/1 [==============================] - 0s 176ms/step\n",
      "1/1 [==============================] - 0s 157ms/step\n",
      "1/1 [==============================] - 0s 178ms/step\n",
      "1/1 [==============================] - 0s 174ms/step\n",
      "1/1 [==============================] - 0s 173ms/step\n",
      "1/1 [==============================] - 0s 156ms/step\n",
      "1/1 [==============================] - 0s 154ms/step\n",
      "1/1 [==============================] - 0s 173ms/step\n",
      "1/1 [==============================] - 0s 197ms/step\n",
      "1/1 [==============================] - 0s 156ms/step\n",
      "1/1 [==============================] - 0s 190ms/step\n",
      "1/1 [==============================] - 0s 164ms/step\n",
      "1/1 [==============================] - 0s 156ms/step\n",
      "1/1 [==============================] - 0s 163ms/step\n",
      "1/1 [==============================] - 0s 163ms/step\n",
      "1/1 [==============================] - 0s 171ms/step\n",
      "1/1 [==============================] - 0s 155ms/step\n",
      "1/1 [==============================] - 0s 158ms/step\n",
      "1/1 [==============================] - 0s 156ms/step\n",
      "1/1 [==============================] - 0s 157ms/step\n",
      "1/1 [==============================] - 0s 180ms/step\n",
      "1/1 [==============================] - 0s 159ms/step\n",
      "1/1 [==============================] - 0s 206ms/step\n",
      "1/1 [==============================] - 0s 167ms/step\n",
      "1/1 [==============================] - 0s 162ms/step\n",
      "1/1 [==============================] - 0s 156ms/step\n",
      "1/1 [==============================] - 0s 165ms/step\n",
      "1/1 [==============================] - 0s 172ms/step\n",
      "1/1 [==============================] - 0s 156ms/step\n",
      "1/1 [==============================] - 0s 175ms/step\n",
      "1/1 [==============================] - 0s 155ms/step\n",
      "1/1 [==============================] - 0s 156ms/step\n"
     ]
    },
    {
     "name": "stdout",
     "output_type": "stream",
     "text": [
      "1/1 [==============================] - 0s 176ms/step\n",
      "1/1 [==============================] - 0s 158ms/step\n",
      "1/1 [==============================] - 0s 158ms/step\n",
      "1/1 [==============================] - 0s 156ms/step\n",
      "1/1 [==============================] - 0s 156ms/step\n",
      "1/1 [==============================] - 0s 156ms/step\n",
      "1/1 [==============================] - 0s 160ms/step\n",
      "1/1 [==============================] - 0s 137ms/step\n",
      "Precision for each class: [0.7869416, 0.74600357, 0.80156076, 0.77, 0.823638]\n",
      "Recall for each class: [0.66505325, 0.76502734, 0.70490193, 0.9112426, 0.8796844]\n",
      "F1 score for each class: [0.7208813866683481, 0.7553956681287586, 0.7501304291917663, 0.8346883013425596, 0.8507390976690072]\n"
     ]
    }
   ],
   "source": [
    "\n",
    "class_names = [str(i) for i in range(5)]  \n",
    "num_classes = len(class_names)\n",
    "\n",
    "precision_metrics = [Precision() for _ in range(num_classes)]\n",
    "recall_metrics = [Recall() for _ in range(num_classes)]\n",
    "\n",
    "for batch in data.as_numpy_iterator():\n",
    "    X, y = batch\n",
    "    yhat = model.predict(X)\n",
    "    \n",
    "    for i in range(num_classes):\n",
    "        class_label = i\n",
    "        class_true = tf.cast(tf.equal(y, class_label), tf.float32)\n",
    "        class_pred = tf.cast(tf.equal(tf.argmax(yhat, axis=1), class_label), tf.float32)\n",
    "\n",
    "        precision_metrics[i].update_state(class_true, class_pred)\n",
    "        recall_metrics[i].update_state(class_true, class_pred)\n",
    "\n",
    "precision_results = [precision_metric.result().numpy() for precision_metric in precision_metrics]\n",
    "recall_results = [recall_metric.result().numpy() for recall_metric in recall_metrics]\n",
    "\n",
    "# Calculate F1 score for each class\n",
    "f1_results = [2 * (precision * recall) / (precision + recall) if (precision + recall) > 0 else 0.0\n",
    "              for precision, recall in zip(precision_results, recall_results)]\n",
    "\n",
    "print(\"Precision for each class:\", precision_results)\n",
    "print(\"Recall for each class:\", recall_results)\n",
    "print(\"F1 score for each class:\", f1_results)"
   ]
  },
  {
   "cell_type": "markdown",
   "id": "a659ce32",
   "metadata": {},
   "source": [
    "# Experiment 2 Resnet like"
   ]
  },
  {
   "cell_type": "code",
   "execution_count": null,
   "id": "eec18a91",
   "metadata": {},
   "outputs": [],
   "source": [
    "img_size = 128\n",
    "data = generate_image_data(img_size, img_size, data_dir)\n",
    "train, val, test = generate_train_val_test(data)\n",
    "data_augmentation = apply_augmentation(img_size, img_size, 0.1)\n",
    "logdir='logs'\n",
    "tensorboard_callback = tf.keras.callbacks.TensorBoard(log_dir=logdir)\n"
   ]
  },
  {
   "cell_type": "code",
   "execution_count": 224,
   "id": "668d838e",
   "metadata": {},
   "outputs": [],
   "source": [
    "tf.keras.backend.clear_session()\n",
    "\n",
    "num_classes = 5\n",
    "batch_size=32\n",
    "epochs=30"
   ]
  },
  {
   "cell_type": "code",
   "execution_count": 229,
   "id": "90563b9c",
   "metadata": {},
   "outputs": [],
   "source": [
    "def residual_block(x, filters, kernel_size=3, stride=1):\n",
    "    # Shortcut\n",
    "    shortcut = x\n",
    "\n",
    "    # First convolution\n",
    "    x = Conv2D(filters, kernel_size, strides=stride, padding='same')(x)\n",
    "    x = ReLU()(x)\n",
    "\n",
    "    # Second convolution\n",
    "    x = Conv2D(filters, kernel_size, padding='same')(x)\n",
    "\n",
    "    # Adding the shortcut to the output\n",
    "    x = Add()([x, shortcut])\n",
    "    x = ReLU()(x)\n",
    "\n",
    "    return x\n",
    "\n",
    "def build_resnet(input_shape, num_classes):\n",
    "    inputs = tf.keras.Input(shape=input_shape)\n",
    "    x = data_augmentation(inputs)\n",
    "\n",
    "    # Initial Convolution\n",
    "    x = layers.Conv2D(64, 3, strides=2, padding='same')(x)\n",
    "    x = layers.ReLU()(x)\n",
    "    \n",
    "    # 2nd Convolution\n",
    "    x = layers.Conv2D(32, 3, strides=2, padding='same')(x)\n",
    "    x = layers.ReLU()(x)\n",
    "    \n",
    "    # 3rd Convolution\n",
    "    x = layers.Conv2D(32, 3, strides=2, padding='same')(x)\n",
    "    x = layers.ReLU()(x)\n",
    "\n",
    "    # Residual Blocks\n",
    "    x = residual_block(x, 32)\n",
    "\n",
    "\n",
    "\n",
    "    # Global Average Pooling\n",
    "    x = layers.GlobalAveragePooling2D()(x)\n",
    "\n",
    "    # Fully Connected Layer\n",
    "    outputs = layers.Dense(num_classes, activation='softmax')(x)\n",
    "\n",
    "    model = tf.keras.Model(inputs=inputs, outputs=outputs)\n",
    "    return model\n",
    "\n",
    "resnet_model = build_resnet((img_size, img_size, 3), num_classes)\n"
   ]
  },
  {
   "cell_type": "code",
   "execution_count": 230,
   "id": "7d510993",
   "metadata": {},
   "outputs": [
    {
     "name": "stdout",
     "output_type": "stream",
     "text": [
      "Model: \"model_2\"\n",
      "__________________________________________________________________________________________________\n",
      " Layer (type)                Output Shape                 Param #   Connected to                  \n",
      "==================================================================================================\n",
      " input_3 (InputLayer)        [(None, 128, 128, 3)]        0         []                            \n",
      "                                                                                                  \n",
      " sequential (Sequential)     (None, 128, 128, 3)          0         ['input_3[0][0]']             \n",
      "                                                                                                  \n",
      " conv2d_10 (Conv2D)          (None, 64, 64, 64)           1792      ['sequential[42][0]']         \n",
      "                                                                                                  \n",
      " re_lu_10 (ReLU)             (None, 64, 64, 64)           0         ['conv2d_10[0][0]']           \n",
      "                                                                                                  \n",
      " conv2d_11 (Conv2D)          (None, 32, 32, 32)           18464     ['re_lu_10[0][0]']            \n",
      "                                                                                                  \n",
      " re_lu_11 (ReLU)             (None, 32, 32, 32)           0         ['conv2d_11[0][0]']           \n",
      "                                                                                                  \n",
      " conv2d_12 (Conv2D)          (None, 16, 16, 32)           9248      ['re_lu_11[0][0]']            \n",
      "                                                                                                  \n",
      " re_lu_12 (ReLU)             (None, 16, 16, 32)           0         ['conv2d_12[0][0]']           \n",
      "                                                                                                  \n",
      " conv2d_13 (Conv2D)          (None, 16, 16, 32)           9248      ['re_lu_12[0][0]']            \n",
      "                                                                                                  \n",
      " re_lu_13 (ReLU)             (None, 16, 16, 32)           0         ['conv2d_13[0][0]']           \n",
      "                                                                                                  \n",
      " conv2d_14 (Conv2D)          (None, 16, 16, 32)           9248      ['re_lu_13[0][0]']            \n",
      "                                                                                                  \n",
      " add_2 (Add)                 (None, 16, 16, 32)           0         ['conv2d_14[0][0]',           \n",
      "                                                                     're_lu_12[0][0]']            \n",
      "                                                                                                  \n",
      " re_lu_14 (ReLU)             (None, 16, 16, 32)           0         ['add_2[0][0]']               \n",
      "                                                                                                  \n",
      " global_average_pooling2d_2  (None, 32)                   0         ['re_lu_14[0][0]']            \n",
      "  (GlobalAveragePooling2D)                                                                        \n",
      "                                                                                                  \n",
      " dense_2 (Dense)             (None, 5)                    165       ['global_average_pooling2d_2[0\n",
      "                                                                    ][0]']                        \n",
      "                                                                                                  \n",
      "==================================================================================================\n",
      "Total params: 48165 (188.14 KB)\n",
      "Trainable params: 48165 (188.14 KB)\n",
      "Non-trainable params: 0 (0.00 Byte)\n",
      "__________________________________________________________________________________________________\n"
     ]
    }
   ],
   "source": [
    "resnet_model.summary()"
   ]
  },
  {
   "cell_type": "code",
   "execution_count": 231,
   "id": "c3f18c2a",
   "metadata": {},
   "outputs": [
    {
     "name": "stdout",
     "output_type": "stream",
     "text": [
      "Epoch 1/30\n",
      "113/113 [==============================] - 26s 218ms/step - loss: 1.4481 - accuracy: 0.3482 - val_loss: 1.2563 - val_accuracy: 0.4727\n",
      "Epoch 2/30\n",
      "113/113 [==============================] - 25s 216ms/step - loss: 1.1625 - accuracy: 0.5335 - val_loss: 1.0586 - val_accuracy: 0.5918\n",
      "Epoch 3/30\n",
      "113/113 [==============================] - 25s 217ms/step - loss: 1.0365 - accuracy: 0.6114 - val_loss: 1.0146 - val_accuracy: 0.5977\n",
      "Epoch 4/30\n",
      "113/113 [==============================] - 25s 217ms/step - loss: 0.9148 - accuracy: 0.6629 - val_loss: 0.8234 - val_accuracy: 0.6816\n",
      "Epoch 5/30\n",
      "113/113 [==============================] - 25s 218ms/step - loss: 0.8478 - accuracy: 0.6883 - val_loss: 0.7970 - val_accuracy: 0.7285\n",
      "Epoch 6/30\n",
      "113/113 [==============================] - 24s 215ms/step - loss: 0.7685 - accuracy: 0.7188 - val_loss: 0.6920 - val_accuracy: 0.7402\n",
      "Epoch 7/30\n",
      "113/113 [==============================] - 25s 220ms/step - loss: 0.7254 - accuracy: 0.7364 - val_loss: 0.6818 - val_accuracy: 0.7441\n",
      "Epoch 8/30\n",
      "113/113 [==============================] - 25s 218ms/step - loss: 0.7266 - accuracy: 0.7212 - val_loss: 0.7578 - val_accuracy: 0.7285\n",
      "Epoch 9/30\n",
      "113/113 [==============================] - 30s 268ms/step - loss: 0.6954 - accuracy: 0.7417 - val_loss: 0.6757 - val_accuracy: 0.7441\n",
      "Epoch 10/30\n",
      "113/113 [==============================] - 25s 220ms/step - loss: 0.6916 - accuracy: 0.7392 - val_loss: 0.6787 - val_accuracy: 0.7383\n",
      "Epoch 11/30\n",
      "113/113 [==============================] - 24s 215ms/step - loss: 0.6742 - accuracy: 0.7541 - val_loss: 0.6524 - val_accuracy: 0.7461\n",
      "Epoch 12/30\n",
      "113/113 [==============================] - 25s 217ms/step - loss: 0.6284 - accuracy: 0.7680 - val_loss: 0.5672 - val_accuracy: 0.7793\n",
      "Epoch 13/30\n",
      "113/113 [==============================] - 26s 230ms/step - loss: 0.6233 - accuracy: 0.7683 - val_loss: 0.6166 - val_accuracy: 0.7891\n",
      "Epoch 14/30\n",
      "113/113 [==============================] - 25s 217ms/step - loss: 0.6141 - accuracy: 0.7721 - val_loss: 0.5696 - val_accuracy: 0.7891\n",
      "Epoch 15/30\n",
      "113/113 [==============================] - 25s 218ms/step - loss: 0.6099 - accuracy: 0.7694 - val_loss: 0.5778 - val_accuracy: 0.7812\n"
     ]
    }
   ],
   "source": [
    "optimizer = tf.keras.optimizers.Adam(learning_rate=0.002)\n",
    "early_stop = EarlyStopping(monitor='val_loss', patience=3, restore_best_weights=True)\n",
    "resnet_model.compile(optimizer=optimizer, loss='sparse_categorical_crossentropy', metrics=['accuracy'])\n",
    "\n",
    "\n",
    "restnet_hist = resnet_model.fit(train, validation_data=val, \\\n",
    "                                epochs=epochs, callbacks=[tensorboard_callback, early_stop])"
   ]
  },
  {
   "cell_type": "code",
   "execution_count": 232,
   "id": "5dfff05f",
   "metadata": {},
   "outputs": [
    {
     "name": "stdout",
     "output_type": "stream",
     "text": [
      "32/32 [==============================] - 10s 181ms/step - loss: 0.6342 - accuracy: 0.7686\n"
     ]
    },
    {
     "data": {
      "text/plain": [
       "[0.6342321634292603, 0.7685546875]"
      ]
     },
     "execution_count": 232,
     "metadata": {},
     "output_type": "execute_result"
    }
   ],
   "source": [
    "resnet_model.evaluate(test)"
   ]
  },
  {
   "cell_type": "code",
   "execution_count": 233,
   "id": "44463b40",
   "metadata": {},
   "outputs": [],
   "source": [
    "model.save('saved_models/resnet_model.keras')"
   ]
  },
  {
   "cell_type": "code",
   "execution_count": 235,
   "id": "92f63402",
   "metadata": {},
   "outputs": [
    {
     "data": {
      "image/png": "[encoded data removed]",
      "text/plain": [
       "<Figure size 640x480 with 1 Axes>"
      ]
     },
     "metadata": {},
     "output_type": "display_data"
    }
   ],
   "source": [
    "fig = plt.figure()\n",
    "plt.plot(restnet_hist.history['loss'], color='teal', label='loss')\n",
    "plt.plot(restnet_hist.history['val_loss'], color='orange', label='val_loss')\n",
    "fig.suptitle('Loss', fontsize=20)\n",
    "plt.legend(loc=\"upper left\")\n",
    "plt.show()\n"
   ]
  },
  {
   "cell_type": "code",
   "execution_count": 236,
   "id": "84a66a55",
   "metadata": {},
   "outputs": [
    {
     "data": {
      "image/png": "[encoded data removed]",
      "text/plain": [
       "<Figure size 640x480 with 1 Axes>"
      ]
     },
     "metadata": {},
     "output_type": "display_data"
    }
   ],
   "source": [
    "\n",
    "fig = plt.figure()\n",
    "plt.plot(restnet_hist.history['accuracy'], color='teal', label='accuracy')\n",
    "plt.plot(restnet_hist.history['val_accuracy'], color='orange', label='val_accuracy')\n",
    "fig.suptitle('Accuracy', fontsize=20)\n",
    "plt.legend(loc=\"upper left\")\n",
    "plt.show()"
   ]
  },
  {
   "cell_type": "code",
   "execution_count": null,
   "id": "8b2b34c8",
   "metadata": {},
   "outputs": [],
   "source": []
  }
 ],
 "metadata": {
  "kernelspec": {
   "display_name": "Python 3 (ipykernel)",
   "language": "python",
   "name": "python3"
  },
  "language_info": {
   "codemirror_mode": {
    "name": "ipython",
    "version": 3
   },
   "file_extension": ".py",
   "mimetype": "text/x-python",
   "name": "python",
   "nbconvert_exporter": "python",
   "pygments_lexer": "ipython3",
   "version": "3.10.9"
  }
 },
 "nbformat": 4,
 "nbformat_minor": 5
}
