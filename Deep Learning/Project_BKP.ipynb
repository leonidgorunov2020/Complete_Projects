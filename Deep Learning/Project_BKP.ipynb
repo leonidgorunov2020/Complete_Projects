{
 "cells": [
  {
   "cell_type": "code",
   "execution_count": 2,
   "id": "2f4c931d",
   "metadata": {},
   "outputs": [],
   "source": [
    "import matplotlib.pyplot as plt\n",
    "import pandas as pd\n",
    "import numpy as np\n",
    "\n",
    "import PIL, cv2, os, imghdr\n",
    "\n",
    "import tensorflow as tf\n",
    "\n",
    "from tensorflow import keras\n",
    "from tensorflow.keras import layers\n",
    "from tensorflow.keras.models import Sequential, load_model\n",
    "from tensorflow.keras.layers import Input, Conv2D, BatchNormalization, ReLU, Add, GlobalAveragePooling2D, Dense\n",
    "from tensorflow.keras.callbacks import EarlyStopping, LearningRateScheduler\n",
    "from tensorflow.keras import regularizers\n",
    "\n",
    "\n",
    "import os\n",
    "os.environ['TF_CPP_MIN_LOG_LEVEL'] = '3' \n",
    "os.environ['TF_DETERMINISTIC_OPS'] = '1'"
   ]
  },
  {
   "cell_type": "code",
   "execution_count": 3,
   "id": "a0a5a02e",
   "metadata": {},
   "outputs": [],
   "source": [
    "np.random.seed(42)\n",
    "tf.random.set_seed(42)\n",
    "data_dir = 'datasets/flower_photos' "
   ]
  },
  {
   "cell_type": "code",
   "execution_count": 4,
   "id": "ebcc8584",
   "metadata": {},
   "outputs": [],
   "source": [
    "image_exts = ['jpeg','jpg', 'bmp', 'png']"
   ]
  },
  {
   "cell_type": "code",
   "execution_count": 5,
   "id": "b729b1a1",
   "metadata": {},
   "outputs": [],
   "source": [
    "for image_class in os.listdir(data_dir): \n",
    "    for image in os.listdir(os.path.join(data_dir, image_class)):\n",
    "        image_path = os.path.join(data_dir, image_class, image)\n",
    "        try: \n",
    "            img = cv2.imread(image_path)\n",
    "            tip = imghdr.what(image_path)\n",
    "            if tip not in image_exts:\n",
    "                print('Image not in ext list {}'.format(image_path))\n",
    "                os.remove(image_path)\n",
    "        except Exception as e: \n",
    "            print('Issue with image {}'.format(image_path))\n",
    "            # os.remove(image_path)"
   ]
  },
  {
   "cell_type": "code",
   "execution_count": 33,
   "id": "a6a0ba34",
   "metadata": {},
   "outputs": [],
   "source": [
    "def generate_image_data(img_x, img_y, data_dir, seed=42):\n",
    "    '''\n",
    "    Based of X, y and image location, returns dataset\n",
    "    '''\n",
    "    tf.random.set_seed(seed)\n",
    "    data = tf.keras.utils.image_dataset_from_directory(data_dir, image_size=(img_x, img_y))\n",
    "    data = data.map(lambda x, y: (x/255, y))\n",
    "    return data\n",
    "\n",
    "def generate_train_val_test(data, seed=42):\n",
    "    tf.random.set_seed(seed)\n",
    "    train_size = int(len(data) * 0.7)\n",
    "    val_size = int(len(data) * 0.1)\n",
    "    test_size = int(len(data) * 0.2)\n",
    "    \n",
    "    train = data.take(train_size)\n",
    "    val = data.skip(train_size).take(val_size)\n",
    "    test = data.skip(train_size + val_size).take(test_size)\n",
    "    return train, val, test\n",
    "\n",
    "def apply_augmentation(img_x, img_y, factor, seed=42):\n",
    "    tf.random.set_seed(seed)\n",
    "    data_augmentation = keras.Sequential(\n",
    "        [\n",
    "            layers.experimental.preprocessing.RandomFlip(\"horizontal\", input_shape=(img_x, img_y, 3)),\n",
    "            layers.experimental.preprocessing.RandomRotation(factor),\n",
    "            layers.experimental.preprocessing.RandomZoom(factor),\n",
    "        ]\n",
    "    )\n",
    "    return data_augmentation\n",
    "\n",
    "def lr_scheduler(epoch, lr):\n",
    "    if epoch < 7:\n",
    "        return lr\n",
    "    return lr * tf.math.exp(-0.1)"
   ]
  },
  {
   "cell_type": "markdown",
   "id": "d9072f04",
   "metadata": {},
   "source": [
    "# Experiment 1 (VGG like model)"
   ]
  },
  {
   "cell_type": "code",
   "execution_count": 7,
   "id": "bab2f893",
   "metadata": {},
   "outputs": [],
   "source": [
    "img_dim = 128"
   ]
  },
  {
   "cell_type": "code",
   "execution_count": 8,
   "id": "7547913a",
   "metadata": {},
   "outputs": [
    {
     "name": "stdout",
     "output_type": "stream",
     "text": [
      "Found 6173 files belonging to 6 classes.\n"
     ]
    }
   ],
   "source": [
    "data = generate_image_data(img_dim, img_dim, data_dir, seed=42)"
   ]
  },
  {
   "cell_type": "code",
   "execution_count": 9,
   "id": "58a70b53",
   "metadata": {},
   "outputs": [],
   "source": [
    "train, val, test = generate_train_val_test(data, seed=42)"
   ]
  },
  {
   "cell_type": "code",
   "execution_count": 10,
   "id": "a1b95768",
   "metadata": {},
   "outputs": [],
   "source": [
    "data_augmentation = apply_augmentation(img_dim, img_dim, 0.1, seed=42)"
   ]
  },
  {
   "cell_type": "code",
   "execution_count": 11,
   "id": "06282b89",
   "metadata": {},
   "outputs": [],
   "source": [
    "logdir='logs'"
   ]
  },
  {
   "cell_type": "code",
   "execution_count": 12,
   "id": "9db09e84",
   "metadata": {},
   "outputs": [],
   "source": [
    "tensorboard_callback = tf.keras.callbacks.TensorBoard(log_dir=logdir)"
   ]
  },
  {
   "cell_type": "code",
   "execution_count": 34,
   "id": "03bec654",
   "metadata": {},
   "outputs": [],
   "source": [
    "tf.keras.backend.clear_session()"
   ]
  },
  {
   "cell_type": "code",
   "execution_count": 35,
   "id": "89eb68fa",
   "metadata": {},
   "outputs": [],
   "source": [
    "num_classes = 6\n",
    "batch_size = 32\n",
    "epochs = 30\n",
    "tf.random.set_seed(42)"
   ]
  },
  {
   "cell_type": "code",
   "execution_count": 36,
   "id": "ee1b50a2",
   "metadata": {},
   "outputs": [],
   "source": [
    "lr_schedule = LearningRateScheduler(lr_scheduler)\n",
    "\n",
    "model = Sequential([\n",
    "    data_augmentation,\n",
    "\n",
    "    layers.Conv2D(64, 3, padding='same', activation='relu'),\n",
    "    layers.MaxPooling2D(),\n",
    "    \n",
    "    layers.Conv2D(32, 3, padding='same', activation='relu'),\n",
    "    layers.MaxPooling2D(),\n",
    "    \n",
    "    layers.Conv2D(16, 3, padding='same', activation='relu'),\n",
    "    layers.MaxPooling2D(),\n",
    "    \n",
    "    \n",
    "    layers.Flatten(),\n",
    "\n",
    "    \n",
    "    layers.Dense(64, activation='relu'),\n",
    "    layers.Dropout(0.1),\n",
    "    layers.Dense(32, activation='relu'),\n",
    "    layers.Dropout(0.4),\n",
    "#     layers.Dense(16, activation='relu'),\n",
    "\n",
    "    \n",
    "    layers.Dense(num_classes)\n",
    "])"
   ]
  },
  {
   "cell_type": "code",
   "execution_count": 37,
   "id": "287252d3",
   "metadata": {},
   "outputs": [
    {
     "name": "stdout",
     "output_type": "stream",
     "text": [
      "Model: \"sequential\"\n",
      "_________________________________________________________________\n",
      " Layer (type)                Output Shape              Param #   \n",
      "=================================================================\n",
      " sequential (Sequential)     (None, 128, 128, 3)       0         \n",
      "                                                                 \n",
      " conv2d (Conv2D)             (None, 128, 128, 64)      1792      \n",
      "                                                                 \n",
      " max_pooling2d (MaxPooling2  (None, 64, 64, 64)        0         \n",
      " D)                                                              \n",
      "                                                                 \n",
      " conv2d_1 (Conv2D)           (None, 64, 64, 32)        18464     \n",
      "                                                                 \n",
      " max_pooling2d_1 (MaxPoolin  (None, 32, 32, 32)        0         \n",
      " g2D)                                                            \n",
      "                                                                 \n",
      " conv2d_2 (Conv2D)           (None, 32, 32, 16)        4624      \n",
      "                                                                 \n",
      " max_pooling2d_2 (MaxPoolin  (None, 16, 16, 16)        0         \n",
      " g2D)                                                            \n",
      "                                                                 \n",
      " flatten (Flatten)           (None, 4096)              0         \n",
      "                                                                 \n",
      " dense (Dense)               (None, 64)                262208    \n",
      "                                                                 \n",
      " dropout (Dropout)           (None, 64)                0         \n",
      "                                                                 \n",
      " dense_1 (Dense)             (None, 32)                2080      \n",
      "                                                                 \n",
      " dropout_1 (Dropout)         (None, 32)                0         \n",
      "                                                                 \n",
      " dense_2 (Dense)             (None, 6)                 198       \n",
      "                                                                 \n",
      "=================================================================\n",
      "Total params: 289366 (1.10 MB)\n",
      "Trainable params: 289366 (1.10 MB)\n",
      "Non-trainable params: 0 (0.00 Byte)\n",
      "_________________________________________________________________\n"
     ]
    }
   ],
   "source": [
    "model.summary()"
   ]
  },
  {
   "cell_type": "code",
   "execution_count": 38,
   "id": "c2bdaa36",
   "metadata": {},
   "outputs": [
    {
     "name": "stdout",
     "output_type": "stream",
     "text": [
      "Epoch 1/30\n",
      "135/135 [==============================] - 90s 651ms/step - loss: 1.7412 - accuracy: 0.2412 - val_loss: 1.5678 - val_accuracy: 0.3257 - lr: 0.0020\n",
      "Epoch 2/30\n",
      "135/135 [==============================] - 105s 777ms/step - loss: 1.4748 - accuracy: 0.3942 - val_loss: 1.3410 - val_accuracy: 0.4803 - lr: 0.0020\n",
      "Epoch 3/30\n",
      "135/135 [==============================] - 93s 688ms/step - loss: 1.3550 - accuracy: 0.4801 - val_loss: 1.2407 - val_accuracy: 0.5362 - lr: 0.0020\n",
      "Epoch 4/30\n",
      "135/135 [==============================] - 85s 630ms/step - loss: 1.2623 - accuracy: 0.5144 - val_loss: 1.1921 - val_accuracy: 0.5510 - lr: 0.0020\n",
      "Epoch 5/30\n",
      "135/135 [==============================] - 86s 633ms/step - loss: 1.2049 - accuracy: 0.5495 - val_loss: 1.1115 - val_accuracy: 0.6053 - lr: 0.0020\n",
      "Epoch 6/30\n",
      "135/135 [==============================] - 86s 634ms/step - loss: 1.1369 - accuracy: 0.5771 - val_loss: 0.9935 - val_accuracy: 0.6184 - lr: 0.0020\n",
      "Epoch 7/30\n",
      "135/135 [==============================] - 87s 641ms/step - loss: 1.0942 - accuracy: 0.5947 - val_loss: 0.9976 - val_accuracy: 0.6316 - lr: 0.0020\n",
      "Epoch 8/30\n",
      "135/135 [==============================] - 86s 633ms/step - loss: 1.0508 - accuracy: 0.6141 - val_loss: 1.0093 - val_accuracy: 0.6036 - lr: 0.0018\n",
      "Epoch 9/30\n",
      "135/135 [==============================] - 86s 632ms/step - loss: 0.9881 - accuracy: 0.6340 - val_loss: 0.9179 - val_accuracy: 0.6628 - lr: 0.0016\n",
      "Epoch 10/30\n",
      "135/135 [==============================] - 85s 628ms/step - loss: 0.9723 - accuracy: 0.6398 - val_loss: 0.9715 - val_accuracy: 0.6398 - lr: 0.0015\n",
      "Epoch 11/30\n",
      "135/135 [==============================] - 87s 640ms/step - loss: 0.9342 - accuracy: 0.6611 - val_loss: 0.8955 - val_accuracy: 0.6595 - lr: 0.0013\n",
      "Epoch 12/30\n",
      "135/135 [==============================] - 85s 631ms/step - loss: 0.9022 - accuracy: 0.6741 - val_loss: 0.8492 - val_accuracy: 0.6891 - lr: 0.0012\n",
      "Epoch 13/30\n",
      "135/135 [==============================] - 85s 630ms/step - loss: 0.8646 - accuracy: 0.6896 - val_loss: 0.8415 - val_accuracy: 0.7056 - lr: 0.0011\n",
      "Epoch 14/30\n",
      "135/135 [==============================] - 85s 629ms/step - loss: 0.8527 - accuracy: 0.6949 - val_loss: 0.8465 - val_accuracy: 0.6826 - lr: 9.9317e-04\n",
      "Epoch 15/30\n",
      "135/135 [==============================] - 85s 631ms/step - loss: 0.8180 - accuracy: 0.7023 - val_loss: 0.8396 - val_accuracy: 0.7171 - lr: 8.9866e-04\n",
      "Epoch 16/30\n",
      "135/135 [==============================] - 87s 640ms/step - loss: 0.8071 - accuracy: 0.7171 - val_loss: 0.8646 - val_accuracy: 0.6826 - lr: 8.1314e-04\n",
      "Epoch 17/30\n",
      "135/135 [==============================] - 86s 633ms/step - loss: 0.7879 - accuracy: 0.7132 - val_loss: 0.7957 - val_accuracy: 0.7138 - lr: 7.3576e-04\n",
      "Epoch 18/30\n",
      "135/135 [==============================] - 85s 629ms/step - loss: 0.7494 - accuracy: 0.7243 - val_loss: 0.8065 - val_accuracy: 0.7122 - lr: 6.6574e-04\n",
      "Epoch 19/30\n",
      "135/135 [==============================] - 85s 631ms/step - loss: 0.7494 - accuracy: 0.7338 - val_loss: 0.8180 - val_accuracy: 0.7105 - lr: 6.0239e-04\n",
      "Epoch 20/30\n",
      "135/135 [==============================] - 87s 640ms/step - loss: 0.7377 - accuracy: 0.7433 - val_loss: 0.7707 - val_accuracy: 0.7319 - lr: 5.4506e-04\n",
      "Epoch 21/30\n",
      "135/135 [==============================] - 85s 630ms/step - loss: 0.7202 - accuracy: 0.7405 - val_loss: 0.7449 - val_accuracy: 0.7138 - lr: 4.9319e-04\n",
      "Epoch 22/30\n",
      "135/135 [==============================] - 86s 634ms/step - loss: 0.7201 - accuracy: 0.7442 - val_loss: 0.7561 - val_accuracy: 0.7072 - lr: 4.4626e-04\n",
      "Epoch 23/30\n",
      "135/135 [==============================] - 101s 750ms/step - loss: 0.7058 - accuracy: 0.7370 - val_loss: 0.7698 - val_accuracy: 0.7188 - lr: 4.0379e-04\n",
      "Epoch 24/30\n",
      "135/135 [==============================] - 87s 642ms/step - loss: 0.7035 - accuracy: 0.7491 - val_loss: 0.7670 - val_accuracy: 0.7171 - lr: 3.6537e-04\n"
     ]
    }
   ],
   "source": [
    "optimizer = tf.keras.optimizers.Adam(learning_rate=0.002)\n",
    "model.compile(optimizer=optimizer,\n",
    "              loss=tf.keras.losses.SparseCategoricalCrossentropy(from_logits=True),\n",
    "              metrics=['accuracy'])\n",
    "\n",
    "early_stopping = EarlyStopping(monitor='val_loss', patience=3, restore_best_weights=True)\n",
    "\n",
    "hist_aug = model.fit(train,  epochs=epochs, batch_size = batch_size, validation_data=val,\\\n",
    "                     callbacks=[tensorboard_callback, early_stopping, lr_schedule])\n"
   ]
  },
  {
   "cell_type": "code",
   "execution_count": 39,
   "id": "14b2a7b0",
   "metadata": {},
   "outputs": [
    {
     "name": "stdout",
     "output_type": "stream",
     "text": [
      "38/38 [==============================] - 12s 214ms/step - loss: 0.8414 - accuracy: 0.6916\n"
     ]
    },
    {
     "data": {
      "text/plain": [
       "[0.8413966298103333, 0.6916118264198303]"
      ]
     },
     "execution_count": 39,
     "metadata": {},
     "output_type": "execute_result"
    }
   ],
   "source": [
    "model.evaluate(test)"
   ]
  },
  {
   "cell_type": "code",
   "execution_count": 40,
   "id": "92d76e04",
   "metadata": {},
   "outputs": [
    {
     "data": {
      "image/png": "[encoded data removed]",
      "text/plain": [
       "<Figure size 640x480 with 1 Axes>"
      ]
     },
     "metadata": {},
     "output_type": "display_data"
    }
   ],
   "source": [
    "fig = plt.figure()\n",
    "plt.plot(hist_aug.history['loss'], color='teal', label='loss')\n",
    "plt.plot(hist_aug.history['val_loss'], color='orange', label='val_loss')\n",
    "fig.suptitle('Loss', fontsize=20)\n",
    "plt.legend(loc=\"upper left\")\n",
    "plt.show()"
   ]
  },
  {
   "cell_type": "code",
   "execution_count": null,
   "id": "69e46188",
   "metadata": {},
   "outputs": [],
   "source": [
    "fig = plt.figure()\n",
    "plt.plot(hist_aug.history['accuracy'], color='teal', label='accuracy')\n",
    "plt.plot(hist_aug.history['val_accuracy'], color='orange', label='val_accuracy')\n",
    "fig.suptitle('Accuracy', fontsize=20)\n",
    "plt.legend(loc=\"upper left\")\n",
    "plt.show()"
   ]
  },
  {
   "cell_type": "code",
   "execution_count": null,
   "id": "d2480b4a",
   "metadata": {},
   "outputs": [],
   "source": [
    "model.save('saved_models/cnn_8125.keras')"
   ]
  },
  {
   "cell_type": "code",
   "execution_count": null,
   "id": "156782ff",
   "metadata": {},
   "outputs": [],
   "source": [
    "model.weights"
   ]
  },
  {
   "cell_type": "code",
   "execution_count": null,
   "id": "d16311c3",
   "metadata": {},
   "outputs": [],
   "source": [
    "test = load_model('saved_models/cnn_7679.keras')"
   ]
  },
  {
   "cell_type": "code",
   "execution_count": null,
   "id": "a6675132",
   "metadata": {},
   "outputs": [],
   "source": [
    "from tensorflow.keras.applications.vgg16 import preprocess_input\n",
    "image_path = './test_images/rose_1.jpeg'   \n",
    "image = cv2.imread(image_path)\n",
    "resized_image = cv2.resize(image, (120, 120))\n",
    "resized_image = np.expand_dims(resized_image, axis=0)\n"
   ]
  },
  {
   "cell_type": "code",
   "execution_count": null,
   "id": "a801e1e5",
   "metadata": {},
   "outputs": [],
   "source": [
    "preprocessed_image = preprocess_input(resized_image)\n",
    "predictions = loaded_model.predict(preprocessed_image)"
   ]
  },
  {
   "cell_type": "code",
   "execution_count": null,
   "id": "d744bff7",
   "metadata": {},
   "outputs": [],
   "source": [
    "\n",
    "np.argmax(predictions)"
   ]
  },
  {
   "cell_type": "code",
   "execution_count": 41,
   "id": "266ab236",
   "metadata": {},
   "outputs": [
    {
     "name": "stdout",
     "output_type": "stream",
     "text": [
      "1/1 [==============================] - 1s 789ms/step\n",
      "1/1 [==============================] - 0s 153ms/step\n",
      "1/1 [==============================] - 0s 157ms/step\n",
      "1/1 [==============================] - 0s 158ms/step\n",
      "1/1 [==============================] - 0s 159ms/step\n",
      "1/1 [==============================] - 0s 155ms/step\n",
      "1/1 [==============================] - 0s 159ms/step\n",
      "1/1 [==============================] - 0s 158ms/step\n",
      "1/1 [==============================] - 0s 161ms/step\n",
      "1/1 [==============================] - 0s 178ms/step\n",
      "1/1 [==============================] - 0s 155ms/step\n",
      "1/1 [==============================] - 0s 155ms/step\n",
      "1/1 [==============================] - 0s 158ms/step\n",
      "1/1 [==============================] - 0s 159ms/step\n",
      "1/1 [==============================] - 0s 163ms/step\n",
      "1/1 [==============================] - 0s 201ms/step\n",
      "1/1 [==============================] - 0s 158ms/step\n",
      "1/1 [==============================] - 0s 154ms/step\n",
      "1/1 [==============================] - 0s 155ms/step\n",
      "1/1 [==============================] - 0s 150ms/step\n",
      "1/1 [==============================] - 0s 156ms/step\n",
      "1/1 [==============================] - 0s 156ms/step\n",
      "1/1 [==============================] - 0s 155ms/step\n",
      "1/1 [==============================] - 0s 155ms/step\n",
      "1/1 [==============================] - 0s 156ms/step\n",
      "1/1 [==============================] - 0s 155ms/step\n",
      "1/1 [==============================] - 0s 155ms/step\n",
      "1/1 [==============================] - 0s 155ms/step\n",
      "1/1 [==============================] - 0s 159ms/step\n",
      "1/1 [==============================] - 0s 150ms/step\n",
      "1/1 [==============================] - 0s 150ms/step\n",
      "1/1 [==============================] - 0s 149ms/step\n",
      "1/1 [==============================] - 0s 156ms/step\n",
      "1/1 [==============================] - 0s 155ms/step\n",
      "1/1 [==============================] - 0s 164ms/step\n",
      "1/1 [==============================] - 0s 168ms/step\n",
      "1/1 [==============================] - 0s 154ms/step\n",
      "1/1 [==============================] - 0s 171ms/step\n",
      "Precision for each class: [0.77840906, 0.74725276, 0.5767635, 0.81, 0.5833333, 0.74261606]\n",
      "Recall for each class: [0.6954315, 0.6126126, 0.62053573, 0.8019802, 0.5645161, 0.95135134]\n",
      "F1 score for each class: [0.7345844653644972, 0.6732672924487993, 0.5978495020845958, 0.8059701514612562, 0.5737704747779565, 0.8341232684411318]\n"
     ]
    }
   ],
   "source": [
    "import tensorflow as tf\n",
    "from tensorflow.keras.metrics import Precision, Recall\n",
    "\n",
    "# Assuming `test` is your test dataset and `model` is your trained model\n",
    "class_names = [str(i) for i in range(6)]  # Assuming 6 classes\n",
    "num_classes = len(class_names)\n",
    "\n",
    "precision_metrics = [Precision() for _ in range(num_classes)]\n",
    "recall_metrics = [Recall() for _ in range(num_classes)]\n",
    "\n",
    "for batch in test.as_numpy_iterator():\n",
    "    X, y = batch\n",
    "    yhat = model.predict(X)\n",
    "    \n",
    "    for i in range(num_classes):\n",
    "        class_label = i\n",
    "        class_true = tf.cast(tf.equal(y, class_label), tf.float32)\n",
    "        class_pred = tf.cast(tf.equal(tf.argmax(yhat, axis=1), class_label), tf.float32)\n",
    "\n",
    "        precision_metrics[i].update_state(class_true, class_pred)\n",
    "        recall_metrics[i].update_state(class_true, class_pred)\n",
    "\n",
    "precision_results = [precision_metric.result().numpy() for precision_metric in precision_metrics]\n",
    "recall_results = [recall_metric.result().numpy() for recall_metric in recall_metrics]\n",
    "\n",
    "# Calculate F1 score for each class\n",
    "f1_results = [2 * (precision * recall) / (precision + recall) if (precision + recall) > 0 else 0.0\n",
    "              for precision, recall in zip(precision_results, recall_results)]\n",
    "\n",
    "print(\"Precision for each class:\", precision_results)\n",
    "print(\"Recall for each class:\", recall_results)\n",
    "print(\"F1 score for each class:\", f1_results)"
   ]
  },
  {
   "cell_type": "markdown",
   "id": "a659ce32",
   "metadata": {},
   "source": [
    "# Experiment 2 Resnet like"
   ]
  },
  {
   "cell_type": "code",
   "execution_count": null,
   "id": "eec18a91",
   "metadata": {},
   "outputs": [],
   "source": [
    "img_size = 120\n",
    "data = generate_image_data(img_size, img_size, data_dir)\n",
    "train, val, test = generate_train_val_test(data)\n",
    "data_augmentation = apply_augmentation(img_size, img_size, 0.1)\n",
    "logdir='logs'\n",
    "tensorboard_callback = tf.keras.callbacks.TensorBoard(log_dir=logdir)\n",
    "tf.keras.backend.clear_session()\n",
    "\n",
    "num_classes = 2\n",
    "batch_size=16\n",
    "epochs=7"
   ]
  },
  {
   "cell_type": "code",
   "execution_count": null,
   "id": "0beb56bf",
   "metadata": {},
   "outputs": [],
   "source": [
    "def residual_block(x, filters, kernel_size=3, stride=1):\n",
    "    # Shortcut\n",
    "    shortcut = x\n",
    "\n",
    "    # First convolution\n",
    "    x = Conv2D(filters, kernel_size, strides=stride, padding='same')(x)\n",
    "    x = BatchNormalization()(x)\n",
    "    x = ReLU()(x)\n",
    "\n",
    "    # Second convolution\n",
    "    x = Conv2D(filters, kernel_size, padding='same')(x)\n",
    "    x = BatchNormalization()(x)\n",
    "\n",
    "    # Adding the shortcut to the output\n",
    "    x = Add()([x, shortcut])\n",
    "    x = ReLU()(x)\n",
    "\n",
    "    return x\n",
    "\n",
    "def build_resnet(input_shape, num_classes):\n",
    "    inputs = tf.keras.Input(shape=input_shape)\n",
    "    x = data_augmentation(inputs)\n",
    "\n",
    "    # Initial Convolution\n",
    "    x = layers.Conv2D(64, 3, strides=2, padding='same')(x)\n",
    "    x = layers.BatchNormalization()(x)\n",
    "    x = layers.ReLU()(x)\n",
    "\n",
    "    # Residual Blocks\n",
    "    x = residual_block(x, 64)\n",
    "    x = layers.Dropout(0.5)(x)  \n",
    "    x = residual_block(x, 64)\n",
    "    x = layers.Dropout(0.5)(x)\n",
    "\n",
    "\n",
    "    # Global Average Pooling\n",
    "    x = layers.GlobalAveragePooling2D()(x)\n",
    "\n",
    "    # Fully Connected Layer\n",
    "    outputs = layers.Dense(num_classes, activation='softmax')(x)\n",
    "\n",
    "    model = tf.keras.Model(inputs=inputs, outputs=outputs)\n",
    "    return model\n",
    "\n",
    "lr_schedule = LearningRateScheduler(lr_scheduler)\n",
    "\n",
    "resnet_model = build_resnet((img_size, img_size, 3), num_classes)\n",
    "\n",
    "# Compile the model with learning rate schedule\n",
    "optimizer = tf.keras.optimizers.Adam(learning_rate=lr_schedule)\n",
    "resnet_model.compile(optimizer=optimizer, loss='sparse_categorical_crossentropy', metrics=['accuracy'])\n",
    "\n",
    "\n",
    "restnet_hist = resnet_model.fit(train, validation_data=val, epochs=epochs, callbacks=[tensorboard_callback])\n"
   ]
  },
  {
   "cell_type": "code",
   "execution_count": null,
   "id": "9fe64637",
   "metadata": {},
   "outputs": [],
   "source": [
    "resnet_model.evaluate(test)"
   ]
  },
  {
   "cell_type": "code",
   "execution_count": null,
   "id": "b1f76671",
   "metadata": {},
   "outputs": [],
   "source": [
    "fig = plt.figure()\n",
    "plt.plot(restnet_hist.history['loss'], color='teal', label='loss')\n",
    "plt.plot(restnet_hist.history['val_loss'], color='orange', label='val_loss')\n",
    "fig.suptitle('Loss', fontsize=20)\n",
    "plt.legend(loc=\"upper left\")\n",
    "plt.show()"
   ]
  },
  {
   "cell_type": "code",
   "execution_count": null,
   "id": "9a487b80",
   "metadata": {},
   "outputs": [],
   "source": [
    "fig = plt.figure()\n",
    "plt.plot(restnet_hist.history['accuracy'], color='teal', label='accuracy')\n",
    "plt.plot(restnet_hist.history['val_accuracy'], color='orange', label='val_accuracy')\n",
    "fig.suptitle('Accuracy', fontsize=20)\n",
    "plt.legend(loc=\"upper left\")\n",
    "plt.show()"
   ]
  },
  {
   "cell_type": "code",
   "execution_count": null,
   "id": "90563b9c",
   "metadata": {},
   "outputs": [],
   "source": []
  }
 ],
 "metadata": {
  "kernelspec": {
   "display_name": "Python 3 (ipykernel)",
   "language": "python",
   "name": "python3"
  },
  "language_info": {
   "codemirror_mode": {
    "name": "ipython",
    "version": 3
   },
   "file_extension": ".py",
   "mimetype": "text/x-python",
   "name": "python",
   "nbconvert_exporter": "python",
   "pygments_lexer": "ipython3",
   "version": "3.10.9"
  }
 },
 "nbformat": 4,
 "nbformat_minor": 5
}
