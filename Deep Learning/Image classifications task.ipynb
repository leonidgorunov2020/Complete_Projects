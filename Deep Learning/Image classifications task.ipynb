{
 "cells": [
  {
   "cell_type": "code",
   "execution_count": 1,
   "id": "2f4c931d",
   "metadata": {},
   "outputs": [
    {
     "name": "stderr",
     "output_type": "stream",
     "text": [
      "2024-02-11 23:36:39.148407: I external/local_tsl/tsl/cuda/cudart_stub.cc:31] Could not find cuda drivers on your machine, GPU will not be used.\n",
      "2024-02-11 23:36:43.218325: E external/local_xla/xla/stream_executor/cuda/cuda_dnn.cc:9261] Unable to register cuDNN factory: Attempting to register factory for plugin cuDNN when one has already been registered\n",
      "2024-02-11 23:36:43.218407: E external/local_xla/xla/stream_executor/cuda/cuda_fft.cc:607] Unable to register cuFFT factory: Attempting to register factory for plugin cuFFT when one has already been registered\n",
      "2024-02-11 23:36:43.567200: E external/local_xla/xla/stream_executor/cuda/cuda_blas.cc:1515] Unable to register cuBLAS factory: Attempting to register factory for plugin cuBLAS when one has already been registered\n",
      "2024-02-11 23:36:44.500653: I external/local_tsl/tsl/cuda/cudart_stub.cc:31] Could not find cuda drivers on your machine, GPU will not be used.\n",
      "2024-02-11 23:36:44.503690: I tensorflow/core/platform/cpu_feature_guard.cc:182] This TensorFlow binary is optimized to use available CPU instructions in performance-critical operations.\n",
      "To enable the following instructions: AVX2 FMA, in other operations, rebuild TensorFlow with the appropriate compiler flags.\n",
      "2024-02-11 23:36:57.451800: W tensorflow/compiler/tf2tensorrt/utils/py_utils.cc:38] TF-TRT Warning: Could not find TensorRT\n"
     ]
    }
   ],
   "source": [
    "import matplotlib.pyplot as plt\n",
    "import pandas as pd\n",
    "import numpy as np\n",
    "\n",
    "import PIL, cv2, os, imghdr\n",
    "\n",
    "import tensorflow as tf\n",
    "\n",
    "from tensorflow import keras\n",
    "from tensorflow.keras import layers\n",
    "from tensorflow.keras.models import Sequential, load_model\n",
    "from tensorflow.keras.layers import Input, Conv2D, BatchNormalization, ReLU, Add, GlobalAveragePooling2D, Dense\n",
    "from tensorflow.keras.callbacks import EarlyStopping, LearningRateScheduler\n",
    "from tensorflow.keras import regularizers\n",
    "\n",
    "import tensorflow_hub as hub\n",
    "\n",
    "from tensorflow.keras.applications.vgg16 import preprocess_input\n",
    "\n",
    "import os\n",
    "os.environ['TF_CPP_MIN_LOG_LEVEL'] = '3' \n",
    "os.environ['TF_DETERMINISTIC_OPS'] = '1'"
   ]
  },
  {
   "cell_type": "code",
   "execution_count": 7,
   "id": "a0a5a02e",
   "metadata": {},
   "outputs": [],
   "source": [
    "np.random.seed(42)\n",
    "tf.random.set_seed(42)\n",
    "data_dir = 'datasets/flower_photos' "
   ]
  },
  {
   "cell_type": "markdown",
   "id": "ea5ec236",
   "metadata": {},
   "source": [
    "<h3><center>Flowers classification</center></h3>"
   ]
  },
  {
   "cell_type": "markdown",
   "id": "5334fe50",
   "metadata": {},
   "source": [
    "## Table of Contents\n",
    "* [Project objectives](#section_1_1)\n",
    "* [Data source](#section_2_1)\n",
    "* [Data preparation](#section_3_1)\n",
    "* [Experiment 1 - Custom CNN ](#section_5_1)\n",
    "    * [Configuration](#section_5_2)\n",
    "    * [Evaluation and tests](#section_5_3)\n",
    "    * [Conclusions](#section_5_4)\n",
    "* [Experiment 2 - Residual neural network](#section_6_1)\n",
    "    * [Configuration](#section_6_2)\n",
    "    * [Evaluation and tests](#section_6_3)\n",
    "    * [Conclusions](#section_6_4)\n",
    "* [Experiment 3 - Transfer learning - Mobilenet V2](#section_7_1)\n",
    "    * [Configuration](#section_7_2)\n",
    "    * [Evaluation and tests](#section_7_3)\n",
    "    * [Conclusions](#section_7_4)\n",
    "* [Resources](#section_8_1)"
   ]
  },
  {
   "cell_type": "markdown",
   "id": "853d1b6e",
   "metadata": {},
   "source": [
    "### Project objectives: <a class=\"anchor\" id=\"section_1_1\"></a>\n",
    "* Find appropriate data to prepare flowers classification model\n",
    "* Analyze the available data and prepare balanced dataset\n",
    "* Perform a few experiments and select the best performing model\n",
    "* Additional objectives:\n",
    "    - Avoid using extra modules if possible\n",
    "    - Organize the code in reusable chunks\n",
    "    - Evaluate each model by measuring its loss, accuracy, f1, precision and recall \n",
    "    - Present the training process visually \n",
    "    - Avoid the overfit with different techniques"
   ]
  },
  {
   "cell_type": "markdown",
   "id": "9fab3959",
   "metadata": {},
   "source": [
    "### Data source: <a class=\"anchor\" id=\"section_2_1\"></a>\n",
    "<a href=\"https://storage.googleapis.com/download.tensorflow.org/example_images/flower_photos.tgz\">The original data </a>is stored on GoogleApis Storage. It contains images of flowers from 5 different categories. What is important for this dataset is that it is highly imbalanced. For the purpose of this project, we will do the following:\n",
    " - Download the images\n",
    " - Replace one of the existing classes with an extra class. We want to make things a little more interesting\n",
    " - The images for the extra class will be downloaded from Google Images manually\n",
    " - To make sure the dataset is balanced, we will create extra images using augmentation technique.The augmentation logic and code is in the other notebook called <b>Image generator.ipynb</b>\n",
    "\n",
    "After those manipulation we will end up with 5 categories with approximetely 1000 images in each.</br>\n",
    "<b>N.B.</b> - The archieve does not contain the training set. It can be reviewed <a href=\"https://github.com/leonidgorunov2020/Complete_Projects/tree/main/Deep%20Learning\">here</a>."
   ]
  },
  {
   "cell_type": "markdown",
   "id": "96159569",
   "metadata": {},
   "source": [
    "### Data preparation: <a class=\"anchor\" id=\"section_3_1\"></a>"
   ]
  },
  {
   "cell_type": "markdown",
   "id": "57a40727",
   "metadata": {},
   "source": [
    "Since we inject an additional set of images, we want to iterate over all of the items and make sure they are indeed images. "
   ]
  },
  {
   "cell_type": "code",
   "execution_count": 7,
   "id": "ebcc8584",
   "metadata": {},
   "outputs": [],
   "source": [
    "image_exts = ['jpeg','jpg', 'bmp', 'png']"
   ]
  },
  {
   "cell_type": "code",
   "execution_count": 5,
   "id": "b729b1a1",
   "metadata": {},
   "outputs": [],
   "source": [
    "for image_class in os.listdir(data_dir): \n",
    "    for image in os.listdir(os.path.join(data_dir, image_class)):\n",
    "        image_path = os.path.join(data_dir, image_class, image)\n",
    "        try: \n",
    "            img = cv2.imread(image_path)\n",
    "            tip = imghdr.what(image_path)\n",
    "            if tip not in image_exts:\n",
    "                print('Image not in ext list {}'.format(image_path))\n",
    "                os.remove(image_path)\n",
    "        except Exception as e: \n",
    "            print('Issue with image {}'.format(image_path))\n",
    "            # os.remove(image_path)"
   ]
  },
  {
   "cell_type": "markdown",
   "id": "c1f73649",
   "metadata": {},
   "source": [
    "The following are functions designed to:\n",
    " - Prepare a dataset from images in a specific folder\n",
    " - Prepare train, validation and test sets manually\n",
    " - Apply augmentation\n",
    " - Set custom learning rate for the models that will utilize this technique"
   ]
  },
  {
   "cell_type": "code",
   "execution_count": 5,
   "id": "a6a0ba34",
   "metadata": {},
   "outputs": [],
   "source": [
    "def generate_image_data(img_x, img_y, data_dir, seed=42):\n",
    "    '''\n",
    "    Based of X, y and image location, returns dataset\n",
    "    '''\n",
    "    tf.random.set_seed(seed)\n",
    "    data = tf.keras.utils.image_dataset_from_directory(data_dir, image_size=(img_x, img_y))\n",
    "    data = data.map(lambda x, y: (x/255, y))\n",
    "    return data\n",
    "\n",
    "def generate_train_val_test(data, seed=42):\n",
    "    '''\n",
    "    Returns train, val, test sets \n",
    "    '''\n",
    "    tf.random.set_seed(seed)\n",
    "    train_size = int(len(data) * 0.7)\n",
    "    val_size = int(len(data) * 0.1)\n",
    "    test_size = int(len(data) * 0.2)\n",
    "    \n",
    "    train = data.take(train_size)\n",
    "    val = data.skip(train_size).take(val_size)\n",
    "    test = data.skip(train_size + val_size).take(test_size)\n",
    "    return train, val, test\n",
    "\n",
    "def apply_augmentation(img_x, img_y, factor, seed=42):\n",
    "    '''\n",
    "    Applies augmentation based on flip, rotation and zoom\n",
    "    '''\n",
    "    tf.random.set_seed(seed)\n",
    "    data_augmentation = keras.Sequential(\n",
    "        [\n",
    "            layers.experimental.preprocessing.RandomFlip(\"horizontal\", input_shape=(img_x, img_y, 3)),\n",
    "            layers.experimental.preprocessing.RandomRotation(factor),\n",
    "            layers.experimental.preprocessing.RandomZoom(factor),\n",
    "        ]\n",
    "    )\n",
    "    return data_augmentation\n",
    "\n",
    "def lr_scheduler(epoch, lr):\n",
    "    '''\n",
    "    Returns updated learning rate\n",
    "    '''\n",
    "    if epoch < 7:\n",
    "        return lr\n",
    "    return lr * tf.math.exp(-0.1)"
   ]
  },
  {
   "cell_type": "markdown",
   "id": "d9072f04",
   "metadata": {},
   "source": [
    "# Experiment 1 - Custom CNN <a class=\"anchor\" id=\"section_5_1\"></a>"
   ]
  },
  {
   "cell_type": "markdown",
   "id": "73fdf172",
   "metadata": {},
   "source": [
    "<b>Info:</b> Convolutional neural networks (CNNs) are developed in a way to understand visual patterns by breaking down images into smaller pieces and analyzing them systematically. CNNs use small filters or 'convolutions' to scan over an image, picking up important features like edges, shapes, and textures. These filters slide across the image, capturing information and creating a map of features.\n",
    "\n",
    "As the information moves through the layers, these features are combined and analyzed in deeper layers, allowing the network to recognize more complex patterns and objects. This process is repeated multiple times, with each layer learning to detect increasingly abstract and high-level features.\n",
    "\n",
    "The general idea of CNNs is to be able to accurately predict what is shown on a given image."
   ]
  },
  {
   "cell_type": "markdown",
   "id": "a0924626",
   "metadata": {},
   "source": [
    "Let's start with:\n",
    " - Setting up base image size\n",
    " - Generate data\n",
    " - Generate train, validation and test sets\n",
    " - Apply augmentation"
   ]
  },
  {
   "cell_type": "code",
   "execution_count": 3,
   "id": "bab2f893",
   "metadata": {},
   "outputs": [],
   "source": [
    "#Set base size for the images\n",
    "img_dim = 128"
   ]
  },
  {
   "cell_type": "code",
   "execution_count": 8,
   "id": "7547913a",
   "metadata": {},
   "outputs": [
    {
     "name": "stdout",
     "output_type": "stream",
     "text": [
      "Found 5179 files belonging to 5 classes.\n"
     ]
    }
   ],
   "source": [
    "#Generate data\n",
    "data = generate_image_data(img_dim, img_dim, data_dir, seed=42)"
   ]
  },
  {
   "cell_type": "code",
   "execution_count": 9,
   "id": "58a70b53",
   "metadata": {},
   "outputs": [],
   "source": [
    "#Generate train, validation and test sets\n",
    "train, val, test = generate_train_val_test(data, seed=42)"
   ]
  },
  {
   "cell_type": "code",
   "execution_count": 10,
   "id": "a1b95768",
   "metadata": {},
   "outputs": [],
   "source": [
    "#Apply data augmentation\n",
    "data_augmentation = apply_augmentation(img_dim, img_dim, 0.1, seed=42)"
   ]
  },
  {
   "cell_type": "code",
   "execution_count": 11,
   "id": "06282b89",
   "metadata": {},
   "outputs": [],
   "source": [
    "#Set up tf logs dit\n",
    "logdir='logs'"
   ]
  },
  {
   "cell_type": "code",
   "execution_count": 19,
   "id": "9db09e84",
   "metadata": {},
   "outputs": [],
   "source": [
    "#Set up callbacks\n",
    "tensorboard_callback = tf.keras.callbacks.TensorBoard(log_dir=logdir)"
   ]
  },
  {
   "cell_type": "code",
   "execution_count": 54,
   "id": "03bec654",
   "metadata": {},
   "outputs": [],
   "source": [
    "#Clean keras backend\n",
    "tf.keras.backend.clear_session()"
   ]
  },
  {
   "cell_type": "code",
   "execution_count": 55,
   "id": "89eb68fa",
   "metadata": {},
   "outputs": [],
   "source": [
    "#Set up basic training params\n",
    "num_classes = 5\n",
    "batch_size = 32\n",
    "epochs = 20\n",
    "tf.random.set_seed(42)"
   ]
  },
  {
   "cell_type": "markdown",
   "id": "c860d714",
   "metadata": {},
   "source": [
    "## Configuration  <a class=\"anchor\" id=\"section_5_2\"></a>\n",
    " - 3 convolutional layers with respectively 64,32 and 16 filters\n",
    " - Flattening layer\n",
    " - 2 fully connected layers with 64 and 32 neurons and dropouts to control the learning process\n",
    " - The model utilizes EarlyStopping and custom starting learning rate"
   ]
  },
  {
   "cell_type": "code",
   "execution_count": 56,
   "id": "ee1b50a2",
   "metadata": {},
   "outputs": [],
   "source": [
    "lr_schedule = LearningRateScheduler(lr_scheduler)\n",
    "\n",
    "model = Sequential([\n",
    "    data_augmentation,\n",
    "\n",
    "    layers.Conv2D(64, 3, padding='same', activation='relu'),\n",
    "    layers.MaxPooling2D(),\n",
    "    \n",
    "    layers.Conv2D(32, 3, padding='same', activation='relu'),\n",
    "    layers.MaxPooling2D(),\n",
    "    \n",
    "    layers.Conv2D(16, 3, padding='same', activation='relu'),\n",
    "    layers.MaxPooling2D(),\n",
    "    \n",
    "    \n",
    "    layers.Flatten(),\n",
    "\n",
    "    \n",
    "    layers.Dense(64, activation='relu'),\n",
    "    layers.Dropout(0.3),\n",
    "    layers.Dense(32, activation='relu'),\n",
    "    layers.Dropout(0.4),\n",
    "#     layers.Dense(16, activation='relu'),\n",
    "\n",
    "    \n",
    "    layers.Dense(num_classes)\n",
    "])"
   ]
  },
  {
   "cell_type": "code",
   "execution_count": 57,
   "id": "287252d3",
   "metadata": {},
   "outputs": [
    {
     "name": "stdout",
     "output_type": "stream",
     "text": [
      "Model: \"sequential\"\n",
      "_________________________________________________________________\n",
      " Layer (type)                Output Shape              Param #   \n",
      "=================================================================\n",
      " sequential (Sequential)     (None, 128, 128, 3)       0         \n",
      "                                                                 \n",
      " conv2d (Conv2D)             (None, 128, 128, 64)      1792      \n",
      "                                                                 \n",
      " max_pooling2d (MaxPooling2  (None, 64, 64, 64)        0         \n",
      " D)                                                              \n",
      "                                                                 \n",
      " conv2d_1 (Conv2D)           (None, 64, 64, 32)        18464     \n",
      "                                                                 \n",
      " max_pooling2d_1 (MaxPoolin  (None, 32, 32, 32)        0         \n",
      " g2D)                                                            \n",
      "                                                                 \n",
      " conv2d_2 (Conv2D)           (None, 32, 32, 16)        4624      \n",
      "                                                                 \n",
      " max_pooling2d_2 (MaxPoolin  (None, 16, 16, 16)        0         \n",
      " g2D)                                                            \n",
      "                                                                 \n",
      " flatten (Flatten)           (None, 4096)              0         \n",
      "                                                                 \n",
      " dense (Dense)               (None, 64)                262208    \n",
      "                                                                 \n",
      " dropout (Dropout)           (None, 64)                0         \n",
      "                                                                 \n",
      " dense_1 (Dense)             (None, 32)                2080      \n",
      "                                                                 \n",
      " dropout_1 (Dropout)         (None, 32)                0         \n",
      "                                                                 \n",
      " dense_2 (Dense)             (None, 5)                 165       \n",
      "                                                                 \n",
      "=================================================================\n",
      "Total params: 289333 (1.10 MB)\n",
      "Trainable params: 289333 (1.10 MB)\n",
      "Non-trainable params: 0 (0.00 Byte)\n",
      "_________________________________________________________________\n"
     ]
    }
   ],
   "source": [
    "model.summary()"
   ]
  },
  {
   "cell_type": "code",
   "execution_count": 58,
   "id": "a0217541",
   "metadata": {},
   "outputs": [],
   "source": [
    "np.random.seed(42)\n",
    "tf.random.set_seed(42)"
   ]
  },
  {
   "cell_type": "code",
   "execution_count": 59,
   "id": "c2bdaa36",
   "metadata": {},
   "outputs": [
    {
     "name": "stdout",
     "output_type": "stream",
     "text": [
      "Epoch 1/20\n",
      "113/113 [==============================] - 75s 647ms/step - loss: 1.4972 - accuracy: 0.3285 - val_loss: 1.2624 - val_accuracy: 0.4902\n",
      "Epoch 2/20\n",
      "113/113 [==============================] - 72s 639ms/step - loss: 1.2817 - accuracy: 0.4748 - val_loss: 1.1750 - val_accuracy: 0.5879\n",
      "Epoch 3/20\n",
      "113/113 [==============================] - 72s 632ms/step - loss: 1.1889 - accuracy: 0.5382 - val_loss: 1.0345 - val_accuracy: 0.6250\n",
      "Epoch 4/20\n",
      "113/113 [==============================] - 72s 633ms/step - loss: 1.0816 - accuracy: 0.5802 - val_loss: 0.9718 - val_accuracy: 0.6230\n",
      "Epoch 5/20\n",
      "113/113 [==============================] - 71s 628ms/step - loss: 0.9889 - accuracy: 0.6305 - val_loss: 0.9019 - val_accuracy: 0.6816\n",
      "Epoch 6/20\n",
      "113/113 [==============================] - 71s 630ms/step - loss: 0.9543 - accuracy: 0.6394 - val_loss: 0.8260 - val_accuracy: 0.7148\n",
      "Epoch 7/20\n",
      "113/113 [==============================] - 71s 630ms/step - loss: 0.8605 - accuracy: 0.6861 - val_loss: 0.8303 - val_accuracy: 0.6602\n",
      "Epoch 8/20\n",
      "113/113 [==============================] - 71s 627ms/step - loss: 0.8292 - accuracy: 0.6980 - val_loss: 0.7346 - val_accuracy: 0.7227\n",
      "Epoch 9/20\n",
      "113/113 [==============================] - 71s 630ms/step - loss: 0.7921 - accuracy: 0.7190 - val_loss: 0.7081 - val_accuracy: 0.7520\n",
      "Epoch 10/20\n",
      "113/113 [==============================] - 71s 627ms/step - loss: 0.7594 - accuracy: 0.7384 - val_loss: 0.6936 - val_accuracy: 0.7441\n",
      "Epoch 11/20\n",
      "113/113 [==============================] - 71s 626ms/step - loss: 0.7021 - accuracy: 0.7475 - val_loss: 0.6324 - val_accuracy: 0.7656\n",
      "Epoch 12/20\n",
      "113/113 [==============================] - 71s 625ms/step - loss: 0.6747 - accuracy: 0.7660 - val_loss: 0.6874 - val_accuracy: 0.7598\n",
      "Epoch 13/20\n",
      "113/113 [==============================] - 71s 626ms/step - loss: 0.6550 - accuracy: 0.7754 - val_loss: 0.6553 - val_accuracy: 0.7637\n",
      "Epoch 14/20\n",
      "113/113 [==============================] - 71s 629ms/step - loss: 0.6417 - accuracy: 0.7746 - val_loss: 0.6611 - val_accuracy: 0.7852\n"
     ]
    }
   ],
   "source": [
    "optimizer = tf.keras.optimizers.Adam(learning_rate=0.0015)\n",
    "model.compile(optimizer=optimizer,\n",
    "              loss=tf.keras.losses.SparseCategoricalCrossentropy(from_logits=True),\n",
    "              metrics=['accuracy'])\n",
    "\n",
    "early_stopping = EarlyStopping(monitor='val_loss', patience=3, restore_best_weights=True)\n",
    "\n",
    "hist_aug = model.fit(train,  epochs=epochs, batch_size = batch_size, validation_data=val,\\\n",
    "                     callbacks=[tensorboard_callback, early_stopping])\n"
   ]
  },
  {
   "cell_type": "markdown",
   "id": "5d83e110",
   "metadata": {},
   "source": [
    "## Evaluation and tests  <a class=\"anchor\" id=\"section_5_3\"></a>"
   ]
  },
  {
   "cell_type": "code",
   "execution_count": 67,
   "id": "14b2a7b0",
   "metadata": {},
   "outputs": [
    {
     "name": "stdout",
     "output_type": "stream",
     "text": [
      "32/32 [==============================] - 8s 150ms/step - loss: 0.7033 - accuracy: 0.7500\n"
     ]
    },
    {
     "data": {
      "text/plain": [
       "[0.7033061385154724, 0.75]"
      ]
     },
     "execution_count": 67,
     "metadata": {},
     "output_type": "execute_result"
    }
   ],
   "source": [
    "model.evaluate(test)"
   ]
  },
  {
   "cell_type": "code",
   "execution_count": 68,
   "id": "92d76e04",
   "metadata": {},
   "outputs": [
    {
     "data": {
      "image/png": "[encoded data removed]",
      "text/plain": [
       "<Figure size 640x480 with 1 Axes>"
      ]
     },
     "metadata": {},
     "output_type": "display_data"
    }
   ],
   "source": [
    "fig = plt.figure()\n",
    "plt.plot(hist_aug.history['loss'], color='teal', label='loss')\n",
    "plt.plot(hist_aug.history['val_loss'], color='orange', label='val_loss')\n",
    "fig.suptitle('Loss', fontsize=20)\n",
    "plt.legend(loc=\"upper left\")\n",
    "plt.show()"
   ]
  },
  {
   "cell_type": "code",
   "execution_count": 69,
   "id": "69e46188",
   "metadata": {},
   "outputs": [
    {
     "data": {
      "image/png": "[encoded data removed]",
      "text/plain": [
       "<Figure size 640x480 with 1 Axes>"
      ]
     },
     "metadata": {},
     "output_type": "display_data"
    }
   ],
   "source": [
    "fig = plt.figure()\n",
    "plt.plot(hist_aug.history['accuracy'], color='teal', label='accuracy')\n",
    "plt.plot(hist_aug.history['val_accuracy'], color='orange', label='val_accuracy')\n",
    "fig.suptitle('Accuracy', fontsize=20)\n",
    "plt.legend(loc=\"upper left\")\n",
    "plt.show()"
   ]
  },
  {
   "cell_type": "markdown",
   "id": "682bf12a",
   "metadata": {},
   "source": [
    "Here we are saving the model, the load it and test it with a custom image that is not part of the dataset."
   ]
  },
  {
   "cell_type": "code",
   "execution_count": 70,
   "id": "d2480b4a",
   "metadata": {},
   "outputs": [],
   "source": [
    "model.save('saved_models/model_aug.keras')"
   ]
  },
  {
   "cell_type": "code",
   "execution_count": 91,
   "id": "d16311c3",
   "metadata": {},
   "outputs": [],
   "source": [
    "loaded_model = load_model('saved_models/model_aug.keras')"
   ]
  },
  {
   "cell_type": "code",
   "execution_count": 92,
   "id": "a6675132",
   "metadata": {},
   "outputs": [],
   "source": [
    "image_path = './test_images/rose_1.jpeg'   \n",
    "image = cv2.imread(image_path)\n",
    "resized_image = cv2.resize(image, (128, 128))\n",
    "resized_image = np.expand_dims(resized_image, axis=0)\n"
   ]
  },
  {
   "cell_type": "code",
   "execution_count": 93,
   "id": "a801e1e5",
   "metadata": {},
   "outputs": [
    {
     "name": "stdout",
     "output_type": "stream",
     "text": [
      "1/1 [==============================] - 0s 88ms/step\n"
     ]
    }
   ],
   "source": [
    "preprocessed_image = preprocess_input(resized_image)\n",
    "predictions = loaded_model.predict(preprocessed_image)"
   ]
  },
  {
   "cell_type": "code",
   "execution_count": 94,
   "id": "d744bff7",
   "metadata": {},
   "outputs": [
    {
     "data": {
      "text/plain": [
       "2"
      ]
     },
     "execution_count": 94,
     "metadata": {},
     "output_type": "execute_result"
    }
   ],
   "source": [
    "#Predictions are actually probabilities. Using argmax we take the highest one. Class 2 in this case is roses\n",
    "np.argmax(predictions)"
   ]
  },
  {
   "cell_type": "markdown",
   "id": "584c0191",
   "metadata": {},
   "source": [
    "Now we check precision, recall and f1 and each one of the classes"
   ]
  },
  {
   "cell_type": "code",
   "execution_count": 97,
   "id": "266ab236",
   "metadata": {
    "scrolled": true
   },
   "outputs": [
    {
     "name": "stdout",
     "output_type": "stream",
     "text": [
      "1/1 [==============================] - 0s 209ms/step\n",
      "1/1 [==============================] - 0s 157ms/step\n",
      "1/1 [==============================] - 0s 155ms/step\n",
      "1/1 [==============================] - 0s 159ms/step\n",
      "1/1 [==============================] - 0s 158ms/step\n",
      "1/1 [==============================] - 0s 167ms/step\n",
      "1/1 [==============================] - 0s 162ms/step\n",
      "1/1 [==============================] - 0s 177ms/step\n",
      "1/1 [==============================] - 0s 155ms/step\n",
      "1/1 [==============================] - 0s 155ms/step\n",
      "1/1 [==============================] - 0s 166ms/step\n",
      "1/1 [==============================] - 0s 154ms/step\n",
      "1/1 [==============================] - 0s 155ms/step\n",
      "1/1 [==============================] - 0s 158ms/step\n",
      "1/1 [==============================] - 0s 162ms/step\n",
      "1/1 [==============================] - 0s 166ms/step\n",
      "1/1 [==============================] - 0s 174ms/step\n",
      "1/1 [==============================] - 0s 187ms/step\n",
      "1/1 [==============================] - 0s 173ms/step\n",
      "1/1 [==============================] - 0s 187ms/step\n",
      "1/1 [==============================] - 0s 186ms/step\n",
      "1/1 [==============================] - 0s 194ms/step\n",
      "1/1 [==============================] - 0s 156ms/step\n",
      "1/1 [==============================] - 0s 155ms/step\n",
      "1/1 [==============================] - 0s 202ms/step\n",
      "1/1 [==============================] - 0s 194ms/step\n",
      "1/1 [==============================] - 0s 156ms/step\n",
      "1/1 [==============================] - 0s 155ms/step\n",
      "1/1 [==============================] - 0s 157ms/step\n",
      "1/1 [==============================] - 0s 194ms/step\n",
      "1/1 [==============================] - 0s 170ms/step\n",
      "1/1 [==============================] - 0s 156ms/step\n",
      "1/1 [==============================] - 0s 162ms/step\n",
      "1/1 [==============================] - 0s 175ms/step\n",
      "1/1 [==============================] - 0s 156ms/step\n",
      "1/1 [==============================] - 0s 157ms/step\n",
      "1/1 [==============================] - 0s 155ms/step\n",
      "1/1 [==============================] - 0s 155ms/step\n",
      "1/1 [==============================] - 0s 156ms/step\n",
      "1/1 [==============================] - 0s 156ms/step\n",
      "1/1 [==============================] - 0s 156ms/step\n",
      "1/1 [==============================] - 0s 155ms/step\n",
      "1/1 [==============================] - 0s 156ms/step\n",
      "1/1 [==============================] - 0s 155ms/step\n",
      "1/1 [==============================] - 0s 164ms/step\n",
      "1/1 [==============================] - 0s 164ms/step\n",
      "1/1 [==============================] - 0s 175ms/step\n",
      "1/1 [==============================] - 0s 155ms/step\n",
      "1/1 [==============================] - 0s 157ms/step\n",
      "1/1 [==============================] - 0s 156ms/step\n",
      "1/1 [==============================] - 0s 156ms/step\n",
      "1/1 [==============================] - 0s 154ms/step\n",
      "1/1 [==============================] - 0s 157ms/step\n",
      "1/1 [==============================] - 0s 194ms/step\n",
      "1/1 [==============================] - 0s 171ms/step\n",
      "1/1 [==============================] - 0s 155ms/step\n",
      "1/1 [==============================] - 0s 159ms/step\n",
      "1/1 [==============================] - 0s 156ms/step\n",
      "1/1 [==============================] - 0s 156ms/step\n",
      "1/1 [==============================] - 0s 155ms/step\n",
      "1/1 [==============================] - 0s 156ms/step\n",
      "1/1 [==============================] - 0s 155ms/step\n",
      "1/1 [==============================] - 0s 157ms/step\n",
      "1/1 [==============================] - 0s 179ms/step\n",
      "1/1 [==============================] - 0s 176ms/step\n",
      "1/1 [==============================] - 0s 180ms/step\n",
      "1/1 [==============================] - 0s 156ms/step\n",
      "1/1 [==============================] - 0s 156ms/step\n",
      "1/1 [==============================] - 0s 158ms/step\n",
      "1/1 [==============================] - 0s 155ms/step\n",
      "1/1 [==============================] - 0s 155ms/step\n",
      "1/1 [==============================] - 0s 155ms/step\n",
      "1/1 [==============================] - 0s 155ms/step\n",
      "1/1 [==============================] - 0s 161ms/step\n",
      "1/1 [==============================] - 0s 180ms/step\n",
      "1/1 [==============================] - 0s 155ms/step\n",
      "1/1 [==============================] - 0s 158ms/step\n",
      "1/1 [==============================] - 0s 155ms/step\n",
      "1/1 [==============================] - 0s 155ms/step\n",
      "1/1 [==============================] - 0s 155ms/step\n",
      "1/1 [==============================] - 0s 155ms/step\n",
      "1/1 [==============================] - 0s 155ms/step\n",
      "1/1 [==============================] - 0s 182ms/step\n",
      "1/1 [==============================] - 0s 179ms/step\n",
      "1/1 [==============================] - 0s 179ms/step\n",
      "1/1 [==============================] - 0s 159ms/step\n",
      "1/1 [==============================] - 0s 158ms/step\n",
      "1/1 [==============================] - 0s 155ms/step\n",
      "1/1 [==============================] - 0s 155ms/step\n",
      "1/1 [==============================] - 0s 155ms/step\n",
      "1/1 [==============================] - 0s 156ms/step\n",
      "1/1 [==============================] - 0s 155ms/step\n",
      "1/1 [==============================] - 0s 158ms/step\n",
      "1/1 [==============================] - 0s 183ms/step\n",
      "1/1 [==============================] - 0s 159ms/step\n",
      "1/1 [==============================] - 0s 158ms/step\n",
      "1/1 [==============================] - 0s 160ms/step\n",
      "1/1 [==============================] - 0s 155ms/step\n",
      "1/1 [==============================] - 0s 156ms/step\n",
      "1/1 [==============================] - 0s 161ms/step\n",
      "1/1 [==============================] - 0s 155ms/step\n",
      "1/1 [==============================] - 0s 155ms/step\n",
      "1/1 [==============================] - 0s 156ms/step\n",
      "1/1 [==============================] - 0s 156ms/step\n",
      "1/1 [==============================] - 0s 156ms/step\n",
      "1/1 [==============================] - 0s 181ms/step\n",
      "1/1 [==============================] - 0s 178ms/step\n",
      "1/1 [==============================] - 0s 156ms/step\n",
      "1/1 [==============================] - 0s 156ms/step\n",
      "1/1 [==============================] - 0s 177ms/step\n",
      "1/1 [==============================] - 0s 154ms/step\n",
      "1/1 [==============================] - 0s 181ms/step\n",
      "1/1 [==============================] - 0s 156ms/step\n",
      "1/1 [==============================] - 0s 181ms/step\n",
      "1/1 [==============================] - 0s 155ms/step\n",
      "1/1 [==============================] - 0s 187ms/step\n",
      "1/1 [==============================] - 0s 159ms/step\n",
      "1/1 [==============================] - 0s 175ms/step\n",
      "1/1 [==============================] - 0s 160ms/step\n",
      "1/1 [==============================] - 0s 167ms/step\n",
      "1/1 [==============================] - 0s 174ms/step\n",
      "1/1 [==============================] - 0s 155ms/step\n",
      "1/1 [==============================] - 0s 176ms/step\n",
      "1/1 [==============================] - 0s 157ms/step\n",
      "1/1 [==============================] - 0s 178ms/step\n",
      "1/1 [==============================] - 0s 174ms/step\n",
      "1/1 [==============================] - 0s 173ms/step\n",
      "1/1 [==============================] - 0s 156ms/step\n",
      "1/1 [==============================] - 0s 154ms/step\n",
      "1/1 [==============================] - 0s 173ms/step\n",
      "1/1 [==============================] - 0s 197ms/step\n",
      "1/1 [==============================] - 0s 156ms/step\n",
      "1/1 [==============================] - 0s 190ms/step\n",
      "1/1 [==============================] - 0s 164ms/step\n",
      "1/1 [==============================] - 0s 156ms/step\n",
      "1/1 [==============================] - 0s 163ms/step\n",
      "1/1 [==============================] - 0s 163ms/step\n",
      "1/1 [==============================] - 0s 171ms/step\n",
      "1/1 [==============================] - 0s 155ms/step\n",
      "1/1 [==============================] - 0s 158ms/step\n",
      "1/1 [==============================] - 0s 156ms/step\n",
      "1/1 [==============================] - 0s 157ms/step\n",
      "1/1 [==============================] - 0s 180ms/step\n",
      "1/1 [==============================] - 0s 159ms/step\n",
      "1/1 [==============================] - 0s 206ms/step\n",
      "1/1 [==============================] - 0s 167ms/step\n",
      "1/1 [==============================] - 0s 162ms/step\n",
      "1/1 [==============================] - 0s 156ms/step\n",
      "1/1 [==============================] - 0s 165ms/step\n",
      "1/1 [==============================] - 0s 172ms/step\n",
      "1/1 [==============================] - 0s 156ms/step\n",
      "1/1 [==============================] - 0s 175ms/step\n",
      "1/1 [==============================] - 0s 155ms/step\n",
      "1/1 [==============================] - 0s 156ms/step\n",
      "1/1 [==============================] - 0s 176ms/step\n",
      "1/1 [==============================] - 0s 158ms/step\n",
      "1/1 [==============================] - 0s 158ms/step\n",
      "1/1 [==============================] - 0s 156ms/step\n",
      "1/1 [==============================] - 0s 156ms/step\n",
      "1/1 [==============================] - 0s 156ms/step\n",
      "1/1 [==============================] - 0s 160ms/step\n",
      "1/1 [==============================] - 0s 137ms/step\n",
      "Precision for each class: [0.7869416, 0.74600357, 0.80156076, 0.77, 0.823638]\n",
      "Recall for each class: [0.66505325, 0.76502734, 0.70490193, 0.9112426, 0.8796844]\n",
      "F1 score for each class: [0.7208813866683481, 0.7553956681287586, 0.7501304291917663, 0.8346883013425596, 0.8507390976690072]\n"
     ]
    }
   ],
   "source": [
    "\n",
    "class_names = [str(i) for i in range(5)]  \n",
    "num_classes = len(class_names)\n",
    "\n",
    "precision_metrics = [Precision() for _ in range(num_classes)]\n",
    "recall_metrics = [Recall() for _ in range(num_classes)]\n",
    "\n",
    "for batch in data.as_numpy_iterator():\n",
    "    X, y = batch\n",
    "    yhat = model.predict(X)\n",
    "    \n",
    "    for i in range(num_classes):\n",
    "        class_label = i\n",
    "        class_true = tf.cast(tf.equal(y, class_label), tf.float32)\n",
    "        class_pred = tf.cast(tf.equal(tf.argmax(yhat, axis=1), class_label), tf.float32)\n",
    "\n",
    "        precision_metrics[i].update_state(class_true, class_pred)\n",
    "        recall_metrics[i].update_state(class_true, class_pred)\n",
    "\n",
    "precision_results = [precision_metric.result().numpy() for precision_metric in precision_metrics]\n",
    "recall_results = [recall_metric.result().numpy() for recall_metric in recall_metrics]\n",
    "\n",
    "# Calculate F1 score for each class\n",
    "f1_results = [2 * (precision * recall) / (precision + recall) if (precision + recall) > 0 else 0.0\n",
    "              for precision, recall in zip(precision_results, recall_results)]\n",
    "\n",
    "print(\"Precision for each class:\", precision_results)\n",
    "print(\"Recall for each class:\", recall_results)\n",
    "print(\"F1 score for each class:\", f1_results)"
   ]
  },
  {
   "cell_type": "markdown",
   "id": "87df5577",
   "metadata": {},
   "source": [
    "## Conclusions  <a class=\"anchor\" id=\"section_5_4\"></a>\n",
    "\n",
    "In this experiment we have started with a little more parameters. The idea was to allow the model to capture more complex structures and this way achieve higher results. We see however, that around 70% accuracy, the model reached plato and could continue improving with the same steps. In the end early stopping technique kicked in and stopped the training process. It seems this situation happens because of the synthetically generated data we use during the training. \n",
    "\n",
    "The training process has been started with a bit higher initial learning rate. Dropouts in the dense layers were protecting the training process from overfit. This experiments shows that a little more complex CNN with appropriate Dropouts can achieve acceptable results on a small dataset"
   ]
  },
  {
   "cell_type": "markdown",
   "id": "a659ce32",
   "metadata": {},
   "source": [
    "# Experiment 2 Resnet implementation <a class=\"anchor\" id=\"section_6_1\"></a>"
   ]
  },
  {
   "cell_type": "markdown",
   "id": "9a5e3449",
   "metadata": {},
   "source": [
    "In the following cell we:\n",
    " - Set the base image size\n",
    " - Generate data\n",
    " - Generate train, validation and test sets\n",
    " - Apply augmentation\n",
    " - Set up callbacks"
   ]
  },
  {
   "cell_type": "code",
   "execution_count": null,
   "id": "eec18a91",
   "metadata": {},
   "outputs": [],
   "source": [
    "img_size = 128\n",
    "data = generate_image_data(img_size, img_size, data_dir)\n",
    "train, val, test = generate_train_val_test(data)\n",
    "data_augmentation = apply_augmentation(img_size, img_size, 0.1)\n",
    "logdir='logs'\n",
    "tensorboard_callback = tf.keras.callbacks.TensorBoard(log_dir=logdir)\n"
   ]
  },
  {
   "cell_type": "markdown",
   "id": "8c2cab54",
   "metadata": {},
   "source": [
    "Here we:\n",
    " - Clear keras backend\n",
    " - Set number of classes\n",
    " - Specify epochs\n",
    " - Set the residual block"
   ]
  },
  {
   "cell_type": "code",
   "execution_count": 224,
   "id": "7d6c54ca",
   "metadata": {},
   "outputs": [],
   "source": [
    "tf.keras.backend.clear_session()\n",
    "\n",
    "num_classes = 5\n",
    "batch_size=32\n",
    "epochs=30"
   ]
  },
  {
   "cell_type": "code",
   "execution_count": 229,
   "id": "90563b9c",
   "metadata": {},
   "outputs": [],
   "source": [
    "def residual_block(x, filters, kernel_size=3, stride=1):\n",
    "    # Shortcut\n",
    "    shortcut = x\n",
    "\n",
    "    # First convolution\n",
    "    x = Conv2D(filters, kernel_size, strides=stride, padding='same')(x)\n",
    "    x = ReLU()(x)\n",
    "\n",
    "    # Second convolution\n",
    "    x = Conv2D(filters, kernel_size, padding='same')(x)\n",
    "\n",
    "    # Adding the shortcut to the output\n",
    "    x = Add()([x, shortcut])\n",
    "    x = ReLU()(x)\n",
    "\n",
    "    return x\n",
    "\n",
    "def build_resnet(input_shape, num_classes):\n",
    "    inputs = tf.keras.Input(shape=input_shape)\n",
    "    x = data_augmentation(inputs)\n",
    "\n",
    "    # Initial Convolution\n",
    "    x = layers.Conv2D(64, 3, strides=2, padding='same')(x)\n",
    "    x = layers.ReLU()(x)\n",
    "    \n",
    "    # 2nd Convolution\n",
    "    x = layers.Conv2D(32, 3, strides=2, padding='same')(x)\n",
    "    x = layers.ReLU()(x)\n",
    "    \n",
    "    # 3rd Convolution\n",
    "    x = layers.Conv2D(32, 3, strides=2, padding='same')(x)\n",
    "    x = layers.ReLU()(x)\n",
    "\n",
    "    # Residual Blocks\n",
    "    x = residual_block(x, 32)\n",
    "\n",
    "\n",
    "\n",
    "    # Global Average Pooling\n",
    "    x = layers.GlobalAveragePooling2D()(x)\n",
    "\n",
    "    # Fully Connected Layer\n",
    "    outputs = layers.Dense(num_classes, activation='softmax')(x)\n",
    "\n",
    "    model = tf.keras.Model(inputs=inputs, outputs=outputs)\n",
    "    return model\n",
    "\n",
    "resnet_model = build_resnet((img_size, img_size, 3), num_classes)\n"
   ]
  },
  {
   "cell_type": "code",
   "execution_count": 230,
   "id": "a59a7104",
   "metadata": {},
   "outputs": [
    {
     "name": "stdout",
     "output_type": "stream",
     "text": [
      "Model: \"model_2\"\n",
      "__________________________________________________________________________________________________\n",
      " Layer (type)                Output Shape                 Param #   Connected to                  \n",
      "==================================================================================================\n",
      " input_3 (InputLayer)        [(None, 128, 128, 3)]        0         []                            \n",
      "                                                                                                  \n",
      " sequential (Sequential)     (None, 128, 128, 3)          0         ['input_3[0][0]']             \n",
      "                                                                                                  \n",
      " conv2d_10 (Conv2D)          (None, 64, 64, 64)           1792      ['sequential[42][0]']         \n",
      "                                                                                                  \n",
      " re_lu_10 (ReLU)             (None, 64, 64, 64)           0         ['conv2d_10[0][0]']           \n",
      "                                                                                                  \n",
      " conv2d_11 (Conv2D)          (None, 32, 32, 32)           18464     ['re_lu_10[0][0]']            \n",
      "                                                                                                  \n",
      " re_lu_11 (ReLU)             (None, 32, 32, 32)           0         ['conv2d_11[0][0]']           \n",
      "                                                                                                  \n",
      " conv2d_12 (Conv2D)          (None, 16, 16, 32)           9248      ['re_lu_11[0][0]']            \n",
      "                                                                                                  \n",
      " re_lu_12 (ReLU)             (None, 16, 16, 32)           0         ['conv2d_12[0][0]']           \n",
      "                                                                                                  \n",
      " conv2d_13 (Conv2D)          (None, 16, 16, 32)           9248      ['re_lu_12[0][0]']            \n",
      "                                                                                                  \n",
      " re_lu_13 (ReLU)             (None, 16, 16, 32)           0         ['conv2d_13[0][0]']           \n",
      "                                                                                                  \n",
      " conv2d_14 (Conv2D)          (None, 16, 16, 32)           9248      ['re_lu_13[0][0]']            \n",
      "                                                                                                  \n",
      " add_2 (Add)                 (None, 16, 16, 32)           0         ['conv2d_14[0][0]',           \n",
      "                                                                     're_lu_12[0][0]']            \n",
      "                                                                                                  \n",
      " re_lu_14 (ReLU)             (None, 16, 16, 32)           0         ['add_2[0][0]']               \n",
      "                                                                                                  \n",
      " global_average_pooling2d_2  (None, 32)                   0         ['re_lu_14[0][0]']            \n",
      "  (GlobalAveragePooling2D)                                                                        \n",
      "                                                                                                  \n",
      " dense_2 (Dense)             (None, 5)                    165       ['global_average_pooling2d_2[0\n",
      "                                                                    ][0]']                        \n",
      "                                                                                                  \n",
      "==================================================================================================\n",
      "Total params: 48165 (188.14 KB)\n",
      "Trainable params: 48165 (188.14 KB)\n",
      "Non-trainable params: 0 (0.00 Byte)\n",
      "__________________________________________________________________________________________________\n"
     ]
    }
   ],
   "source": [
    "resnet_model.summary()"
   ]
  },
  {
   "cell_type": "markdown",
   "id": "9a95ef11",
   "metadata": {},
   "source": [
    "## Configuration <a class=\"anchor\" id=\"section_6_2\"></a>"
   ]
  },
  {
   "cell_type": "markdown",
   "id": "fca8f65d",
   "metadata": {},
   "source": [
    "Now we:\n",
    " - Set optimized\n",
    " - Define early stopping\n",
    " - Compile and fit the model"
   ]
  },
  {
   "cell_type": "code",
   "execution_count": 231,
   "id": "fbc12208",
   "metadata": {},
   "outputs": [
    {
     "name": "stdout",
     "output_type": "stream",
     "text": [
      "Epoch 1/30\n",
      "113/113 [==============================] - 26s 218ms/step - loss: 1.4481 - accuracy: 0.3482 - val_loss: 1.2563 - val_accuracy: 0.4727\n",
      "Epoch 2/30\n",
      "113/113 [==============================] - 25s 216ms/step - loss: 1.1625 - accuracy: 0.5335 - val_loss: 1.0586 - val_accuracy: 0.5918\n",
      "Epoch 3/30\n",
      "113/113 [==============================] - 25s 217ms/step - loss: 1.0365 - accuracy: 0.6114 - val_loss: 1.0146 - val_accuracy: 0.5977\n",
      "Epoch 4/30\n",
      "113/113 [==============================] - 25s 217ms/step - loss: 0.9148 - accuracy: 0.6629 - val_loss: 0.8234 - val_accuracy: 0.6816\n",
      "Epoch 5/30\n",
      "113/113 [==============================] - 25s 218ms/step - loss: 0.8478 - accuracy: 0.6883 - val_loss: 0.7970 - val_accuracy: 0.7285\n",
      "Epoch 6/30\n",
      "113/113 [==============================] - 24s 215ms/step - loss: 0.7685 - accuracy: 0.7188 - val_loss: 0.6920 - val_accuracy: 0.7402\n",
      "Epoch 7/30\n",
      "113/113 [==============================] - 25s 220ms/step - loss: 0.7254 - accuracy: 0.7364 - val_loss: 0.6818 - val_accuracy: 0.7441\n",
      "Epoch 8/30\n",
      "113/113 [==============================] - 25s 218ms/step - loss: 0.7266 - accuracy: 0.7212 - val_loss: 0.7578 - val_accuracy: 0.7285\n",
      "Epoch 9/30\n",
      "113/113 [==============================] - 30s 268ms/step - loss: 0.6954 - accuracy: 0.7417 - val_loss: 0.6757 - val_accuracy: 0.7441\n",
      "Epoch 10/30\n",
      "113/113 [==============================] - 25s 220ms/step - loss: 0.6916 - accuracy: 0.7392 - val_loss: 0.6787 - val_accuracy: 0.7383\n",
      "Epoch 11/30\n",
      "113/113 [==============================] - 24s 215ms/step - loss: 0.6742 - accuracy: 0.7541 - val_loss: 0.6524 - val_accuracy: 0.7461\n",
      "Epoch 12/30\n",
      "113/113 [==============================] - 25s 217ms/step - loss: 0.6284 - accuracy: 0.7680 - val_loss: 0.5672 - val_accuracy: 0.7793\n",
      "Epoch 13/30\n",
      "113/113 [==============================] - 26s 230ms/step - loss: 0.6233 - accuracy: 0.7683 - val_loss: 0.6166 - val_accuracy: 0.7891\n",
      "Epoch 14/30\n",
      "113/113 [==============================] - 25s 217ms/step - loss: 0.6141 - accuracy: 0.7721 - val_loss: 0.5696 - val_accuracy: 0.7891\n",
      "Epoch 15/30\n",
      "113/113 [==============================] - 25s 218ms/step - loss: 0.6099 - accuracy: 0.7694 - val_loss: 0.5778 - val_accuracy: 0.7812\n"
     ]
    }
   ],
   "source": [
    "optimizer = tf.keras.optimizers.Adam(learning_rate=0.002)\n",
    "early_stop = EarlyStopping(monitor='val_loss', patience=3, restore_best_weights=True)\n",
    "resnet_model.compile(optimizer=optimizer, loss='sparse_categorical_crossentropy', metrics=['accuracy'])\n",
    "\n",
    "\n",
    "restnet_hist = resnet_model.fit(train, validation_data=val, \\\n",
    "                                epochs=epochs, callbacks=[tensorboard_callback, early_stop])"
   ]
  },
  {
   "cell_type": "markdown",
   "id": "ffa0519b",
   "metadata": {},
   "source": [
    "## Resnet evaluation  <a class=\"anchor\" id=\"section_6_3\"></a>"
   ]
  },
  {
   "cell_type": "code",
   "execution_count": 232,
   "id": "de44d231",
   "metadata": {},
   "outputs": [
    {
     "name": "stdout",
     "output_type": "stream",
     "text": [
      "32/32 [==============================] - 10s 181ms/step - loss: 0.6342 - accuracy: 0.7686\n"
     ]
    },
    {
     "data": {
      "text/plain": [
       "[0.6342321634292603, 0.7685546875]"
      ]
     },
     "execution_count": 232,
     "metadata": {},
     "output_type": "execute_result"
    }
   ],
   "source": [
    "resnet_model.evaluate(test)"
   ]
  },
  {
   "cell_type": "code",
   "execution_count": 233,
   "id": "daeb9f12",
   "metadata": {},
   "outputs": [],
   "source": [
    "model.save('saved_models/resnet_model.keras')"
   ]
  },
  {
   "cell_type": "code",
   "execution_count": 235,
   "id": "d0881569",
   "metadata": {},
   "outputs": [
    {
     "data": {
      "image/png": "[encoded data removed]",
      "text/plain": [
       "<Figure size 640x480 with 1 Axes>"
      ]
     },
     "metadata": {},
     "output_type": "display_data"
    }
   ],
   "source": [
    "fig = plt.figure()\n",
    "plt.plot(restnet_hist.history['loss'], color='teal', label='loss')\n",
    "plt.plot(restnet_hist.history['val_loss'], color='orange', label='val_loss')\n",
    "fig.suptitle('Loss', fontsize=20)\n",
    "plt.legend(loc=\"upper left\")\n",
    "plt.show()\n"
   ]
  },
  {
   "cell_type": "code",
   "execution_count": 236,
   "id": "44f92fd2",
   "metadata": {},
   "outputs": [
    {
     "data": {
      "image/png": "[encoded data removed]",
      "text/plain": [
       "<Figure size 640x480 with 1 Axes>"
      ]
     },
     "metadata": {},
     "output_type": "display_data"
    }
   ],
   "source": [
    "\n",
    "fig = plt.figure()\n",
    "plt.plot(restnet_hist.history['accuracy'], color='teal', label='accuracy')\n",
    "plt.plot(restnet_hist.history['val_accuracy'], color='orange', label='val_accuracy')\n",
    "fig.suptitle('Accuracy', fontsize=20)\n",
    "plt.legend(loc=\"upper left\")\n",
    "plt.show()"
   ]
  },
  {
   "cell_type": "markdown",
   "id": "d7774be9",
   "metadata": {},
   "source": [
    "Now we evaluate the achievments by measuring precision recall and f1 scores"
   ]
  },
  {
   "cell_type": "code",
   "execution_count": 239,
   "id": "5f236c81",
   "metadata": {
    "scrolled": true
   },
   "outputs": [
    {
     "name": "stdout",
     "output_type": "stream",
     "text": [
      "1/1 [==============================] - 0s 432ms/step\n",
      "1/1 [==============================] - 0s 50ms/step\n",
      "1/1 [==============================] - 0s 50ms/step\n",
      "1/1 [==============================] - 0s 67ms/step\n",
      "1/1 [==============================] - 0s 62ms/step\n",
      "1/1 [==============================] - 0s 71ms/step\n",
      "1/1 [==============================] - 0s 75ms/step\n",
      "1/1 [==============================] - 0s 68ms/step\n",
      "1/1 [==============================] - 0s 65ms/step\n",
      "1/1 [==============================] - 0s 64ms/step\n",
      "1/1 [==============================] - 0s 58ms/step\n",
      "1/1 [==============================] - 0s 57ms/step\n",
      "1/1 [==============================] - 0s 50ms/step\n",
      "1/1 [==============================] - 0s 59ms/step\n",
      "1/1 [==============================] - 0s 50ms/step\n",
      "1/1 [==============================] - 0s 57ms/step\n",
      "1/1 [==============================] - 0s 62ms/step\n",
      "1/1 [==============================] - 0s 63ms/step\n",
      "1/1 [==============================] - 0s 63ms/step\n",
      "1/1 [==============================] - 0s 70ms/step\n",
      "1/1 [==============================] - 0s 51ms/step\n",
      "1/1 [==============================] - 0s 58ms/step\n",
      "1/1 [==============================] - 0s 61ms/step\n",
      "1/1 [==============================] - 0s 58ms/step\n",
      "1/1 [==============================] - 0s 49ms/step\n",
      "1/1 [==============================] - 0s 58ms/step\n",
      "1/1 [==============================] - 0s 73ms/step\n",
      "1/1 [==============================] - 0s 77ms/step\n",
      "1/1 [==============================] - 0s 70ms/step\n",
      "1/1 [==============================] - 0s 52ms/step\n",
      "1/1 [==============================] - 0s 50ms/step\n",
      "1/1 [==============================] - 0s 51ms/step\n",
      "1/1 [==============================] - 0s 51ms/step\n",
      "1/1 [==============================] - 0s 59ms/step\n",
      "1/1 [==============================] - 0s 50ms/step\n",
      "1/1 [==============================] - 0s 59ms/step\n",
      "1/1 [==============================] - 0s 59ms/step\n",
      "1/1 [==============================] - 0s 69ms/step\n",
      "1/1 [==============================] - 0s 71ms/step\n",
      "1/1 [==============================] - 0s 61ms/step\n",
      "1/1 [==============================] - 0s 60ms/step\n",
      "1/1 [==============================] - 0s 60ms/step\n",
      "1/1 [==============================] - 0s 58ms/step\n",
      "1/1 [==============================] - 0s 50ms/step\n",
      "1/1 [==============================] - 0s 59ms/step\n",
      "1/1 [==============================] - 0s 50ms/step\n",
      "1/1 [==============================] - 0s 58ms/step\n",
      "1/1 [==============================] - 0s 60ms/step\n",
      "1/1 [==============================] - 0s 69ms/step\n",
      "1/1 [==============================] - 0s 84ms/step\n",
      "1/1 [==============================] - 0s 51ms/step\n",
      "1/1 [==============================] - 0s 59ms/step\n",
      "1/1 [==============================] - 0s 59ms/step\n",
      "1/1 [==============================] - 0s 59ms/step\n",
      "1/1 [==============================] - 0s 58ms/step\n",
      "1/1 [==============================] - 0s 58ms/step\n",
      "1/1 [==============================] - 0s 60ms/step\n",
      "1/1 [==============================] - 0s 54ms/step\n",
      "1/1 [==============================] - 0s 70ms/step\n",
      "1/1 [==============================] - 0s 70ms/step\n",
      "1/1 [==============================] - 0s 62ms/step\n",
      "1/1 [==============================] - 0s 57ms/step\n",
      "1/1 [==============================] - 0s 50ms/step\n",
      "1/1 [==============================] - 0s 58ms/step\n",
      "1/1 [==============================] - 0s 58ms/step\n",
      "1/1 [==============================] - 0s 59ms/step\n",
      "1/1 [==============================] - 0s 50ms/step\n",
      "1/1 [==============================] - 0s 58ms/step\n",
      "1/1 [==============================] - 0s 63ms/step\n",
      "1/1 [==============================] - 0s 66ms/step\n",
      "1/1 [==============================] - 0s 71ms/step\n",
      "1/1 [==============================] - 0s 50ms/step\n",
      "1/1 [==============================] - 0s 50ms/step\n",
      "1/1 [==============================] - 0s 59ms/step\n",
      "1/1 [==============================] - 0s 58ms/step\n",
      "1/1 [==============================] - 0s 50ms/step\n",
      "1/1 [==============================] - 0s 51ms/step\n",
      "1/1 [==============================] - 0s 56ms/step\n",
      "1/1 [==============================] - 0s 59ms/step\n",
      "1/1 [==============================] - 0s 59ms/step\n",
      "1/1 [==============================] - 0s 59ms/step\n",
      "1/1 [==============================] - 0s 57ms/step\n",
      "1/1 [==============================] - 0s 68ms/step\n",
      "1/1 [==============================] - 0s 94ms/step\n",
      "1/1 [==============================] - 0s 56ms/step\n",
      "1/1 [==============================] - 0s 62ms/step\n",
      "1/1 [==============================] - 0s 60ms/step\n",
      "1/1 [==============================] - 0s 62ms/step\n",
      "1/1 [==============================] - 0s 64ms/step\n",
      "1/1 [==============================] - 0s 62ms/step\n",
      "1/1 [==============================] - 0s 65ms/step\n",
      "1/1 [==============================] - 0s 78ms/step\n",
      "1/1 [==============================] - 0s 66ms/step\n",
      "1/1 [==============================] - 0s 67ms/step\n",
      "1/1 [==============================] - 0s 67ms/step\n",
      "1/1 [==============================] - 0s 55ms/step\n",
      "1/1 [==============================] - 0s 53ms/step\n",
      "1/1 [==============================] - 0s 62ms/step\n",
      "1/1 [==============================] - 0s 67ms/step\n",
      "1/1 [==============================] - 0s 81ms/step\n",
      "1/1 [==============================] - 0s 64ms/step\n",
      "1/1 [==============================] - 0s 53ms/step\n",
      "1/1 [==============================] - 0s 56ms/step\n",
      "1/1 [==============================] - 0s 53ms/step\n",
      "1/1 [==============================] - 0s 64ms/step\n",
      "1/1 [==============================] - 0s 63ms/step\n",
      "1/1 [==============================] - 0s 62ms/step\n",
      "1/1 [==============================] - 0s 56ms/step\n",
      "1/1 [==============================] - 0s 67ms/step\n",
      "1/1 [==============================] - 0s 100ms/step\n",
      "1/1 [==============================] - 0s 70ms/step\n",
      "1/1 [==============================] - 0s 61ms/step\n",
      "1/1 [==============================] - 0s 63ms/step\n",
      "1/1 [==============================] - 0s 52ms/step\n",
      "1/1 [==============================] - 0s 72ms/step\n",
      "1/1 [==============================] - 0s 62ms/step\n",
      "1/1 [==============================] - 0s 70ms/step\n",
      "1/1 [==============================] - 0s 62ms/step\n",
      "1/1 [==============================] - 0s 66ms/step\n",
      "1/1 [==============================] - 0s 64ms/step\n",
      "1/1 [==============================] - 0s 78ms/step\n",
      "1/1 [==============================] - 0s 63ms/step\n",
      "1/1 [==============================] - 0s 53ms/step\n",
      "1/1 [==============================] - 0s 85ms/step\n",
      "1/1 [==============================] - 0s 64ms/step\n",
      "1/1 [==============================] - 0s 63ms/step\n",
      "1/1 [==============================] - 0s 64ms/step\n",
      "1/1 [==============================] - 0s 87ms/step\n",
      "1/1 [==============================] - 0s 62ms/step\n",
      "1/1 [==============================] - 0s 67ms/step\n",
      "1/1 [==============================] - 0s 60ms/step\n",
      "1/1 [==============================] - 0s 91ms/step\n",
      "1/1 [==============================] - 0s 92ms/step\n",
      "1/1 [==============================] - 0s 85ms/step\n",
      "1/1 [==============================] - 0s 62ms/step\n",
      "1/1 [==============================] - 0s 54ms/step\n",
      "1/1 [==============================] - 0s 59ms/step\n",
      "1/1 [==============================] - 0s 69ms/step\n",
      "1/1 [==============================] - 0s 82ms/step\n",
      "1/1 [==============================] - 0s 71ms/step\n",
      "1/1 [==============================] - 0s 77ms/step\n",
      "1/1 [==============================] - 0s 62ms/step\n",
      "1/1 [==============================] - 0s 62ms/step\n",
      "1/1 [==============================] - 0s 56ms/step\n",
      "1/1 [==============================] - 0s 78ms/step\n",
      "1/1 [==============================] - 0s 69ms/step\n",
      "1/1 [==============================] - 0s 78ms/step\n",
      "1/1 [==============================] - 0s 84ms/step\n",
      "1/1 [==============================] - 0s 59ms/step\n",
      "1/1 [==============================] - 0s 80ms/step\n",
      "1/1 [==============================] - 0s 52ms/step\n",
      "1/1 [==============================] - 0s 57ms/step\n",
      "1/1 [==============================] - 0s 89ms/step\n",
      "1/1 [==============================] - 0s 54ms/step\n",
      "1/1 [==============================] - 0s 64ms/step\n",
      "1/1 [==============================] - 0s 109ms/step\n",
      "1/1 [==============================] - 0s 80ms/step\n",
      "1/1 [==============================] - 0s 62ms/step\n",
      "1/1 [==============================] - 0s 52ms/step\n",
      "1/1 [==============================] - 0s 74ms/step\n",
      "1/1 [==============================] - 0s 60ms/step\n",
      "1/1 [==============================] - 0s 234ms/step\n",
      "Precision for each class: [0.7127962, 0.7219882, 0.81670535, 0.82215744, 0.8499044]\n",
      "Recall for each class: [0.72797674, 0.78051, 0.6901961, 0.83431953, 0.87672585]\n",
      "F1 score for each class: [0.7203065013635521, 0.750109410857048, 0.7481402689037392, 0.8281938170647034, 0.8631068272187342]\n"
     ]
    }
   ],
   "source": [
    "model = resnet_model\n",
    "class_names = [str(i) for i in range(5)]  \n",
    "num_classes = len(class_names)\n",
    "\n",
    "precision_metrics = [Precision() for _ in range(num_classes)]\n",
    "recall_metrics = [Recall() for _ in range(num_classes)]\n",
    "\n",
    "for batch in data.as_numpy_iterator():\n",
    "    X, y = batch\n",
    "    yhat = model.predict(X)\n",
    "    \n",
    "    for i in range(num_classes):\n",
    "        class_label = i\n",
    "        class_true = tf.cast(tf.equal(y, class_label), tf.float32)\n",
    "        class_pred = tf.cast(tf.equal(tf.argmax(yhat, axis=1), class_label), tf.float32)\n",
    "\n",
    "        precision_metrics[i].update_state(class_true, class_pred)\n",
    "        recall_metrics[i].update_state(class_true, class_pred)\n",
    "\n",
    "precision_results = [precision_metric.result().numpy() for precision_metric in precision_metrics]\n",
    "recall_results = [recall_metric.result().numpy() for recall_metric in recall_metrics]\n",
    "\n",
    "# Calculate F1 score for each class\n",
    "f1_results = [2 * (precision * recall) / (precision + recall) if (precision + recall) > 0 else 0.0\n",
    "              for precision, recall in zip(precision_results, recall_results)]\n",
    "\n",
    "print(\"Precision for each class:\", precision_results)\n",
    "print(\"Recall for each class:\", recall_results)\n",
    "print(\"F1 score for each class:\", f1_results)"
   ]
  },
  {
   "cell_type": "markdown",
   "id": "bb17f6d4",
   "metadata": {},
   "source": [
    "## Conclusions  <a class=\"anchor\" id=\"section_6_4\"></a>\n",
    "\n",
    "In this second experiment we tested the opposite - smaller number of parameters with higher learning rate. We wanted to check if a simpler model with ability to deal with vanishing gradients would work better with a relatively small dataset. \n",
    "\n",
    "The results are identical. Pretty much the same number of epochs and plato around 70% before early stopping technique to kick in. Looking at the training loss curve however, we see it smoother than the same parameter of the first experiment which makes me think that the second experiment is a bit more successful. "
   ]
  },
  {
   "cell_type": "markdown",
   "id": "7780d743",
   "metadata": {},
   "source": [
    "# Experiment 3 - Transfer Learning Mobilenet v2 <a class=\"anchor\" id=\"section_7_1\"></a>"
   ]
  },
  {
   "cell_type": "markdown",
   "id": "f1a14f64",
   "metadata": {},
   "source": [
    "<b>Info:</b>Transfer learning is a powerful technique in deep learning where knowledge gained from training on one task is copies / transferred to another related task. In reality, instead of starting the learning process from scratch every time , we begin with a model that has already been trained on a large dataset for a similar task.\n",
    "\n",
    "As we will see transfer learning can be incredibly beneficial in scenarios where we have limited data for the task we want to solve, as it allows us to use previously gained knowledge.\n",
    "\n",
    "In this experiment, we will obtain a trained model, remove its classification part and train it for our task."
   ]
  },
  {
   "cell_type": "markdown",
   "id": "ecf73869",
   "metadata": {},
   "source": [
    "We obtain the module and remove it classification part"
   ]
  },
  {
   "cell_type": "code",
   "execution_count": 26,
   "id": "7bf8a35d",
   "metadata": {},
   "outputs": [],
   "source": [
    "feature_extractor_model = \"https://tfhub.dev/google/tf2-preview/mobilenet_v2/feature_vector/4\""
   ]
  },
  {
   "cell_type": "code",
   "execution_count": 27,
   "id": "fa66dbd0",
   "metadata": {},
   "outputs": [],
   "source": [
    "pretrained_model_without_top_layer = hub.KerasLayer(\n",
    "    feature_extractor_model, input_shape=(224, 224, 3), trainable=False)\n"
   ]
  },
  {
   "cell_type": "markdown",
   "id": "257b93b6",
   "metadata": {},
   "source": [
    "Here we set appropriate image size and generate a data set. The process includes the generation of train, validation and test sets"
   ]
  },
  {
   "cell_type": "code",
   "execution_count": 28,
   "id": "fdf7c31c",
   "metadata": {},
   "outputs": [
    {
     "name": "stdout",
     "output_type": "stream",
     "text": [
      "Found 5179 files belonging to 5 classes.\n"
     ]
    }
   ],
   "source": [
    "img_size = 224\n",
    "data = generate_image_data(img_size, img_size, data_dir)\n",
    "train, val, test = generate_train_val_test(data)"
   ]
  },
  {
   "cell_type": "markdown",
   "id": "13ee4016",
   "metadata": {},
   "source": [
    "We define base params and model"
   ]
  },
  {
   "cell_type": "code",
   "execution_count": 33,
   "id": "8aa8a28f",
   "metadata": {},
   "outputs": [
    {
     "name": "stdout",
     "output_type": "stream",
     "text": [
      "Model: \"sequential\"\n",
      "_________________________________________________________________\n",
      " Layer (type)                Output Shape              Param #   \n",
      "=================================================================\n",
      " keras_layer (KerasLayer)    (None, 1280)              2257984   \n",
      "                                                                 \n",
      " dense (Dense)               (None, 5)                 6405      \n",
      "                                                                 \n",
      "=================================================================\n",
      "Total params: 2264389 (8.64 MB)\n",
      "Trainable params: 6405 (25.02 KB)\n",
      "Non-trainable params: 2257984 (8.61 MB)\n",
      "_________________________________________________________________\n"
     ]
    }
   ],
   "source": [
    "num_of_classes = 5\n",
    "epochs = 5\n",
    "batch_size = 16\n",
    "\n",
    "model = tf.keras.Sequential([\n",
    "  pretrained_model_without_top_layer,\n",
    "  tf.keras.layers.Dense(num_of_classes)\n",
    "])\n",
    "\n",
    "model.summary()"
   ]
  },
  {
   "cell_type": "markdown",
   "id": "faa86adf",
   "metadata": {},
   "source": [
    "## Configuration <a class=\"anchor\" id=\"section_7_2\"></a>"
   ]
  },
  {
   "cell_type": "markdown",
   "id": "4e0a3a22",
   "metadata": {},
   "source": [
    "Now we:\n",
    " - Clean keras backend\n",
    " - Set up callbacks\n",
    " - Define optimizer and eaery stopping\n",
    " - Compile and fit the model"
   ]
  },
  {
   "cell_type": "code",
   "execution_count": 30,
   "id": "4a2c1db6",
   "metadata": {},
   "outputs": [],
   "source": [
    "tf.keras.backend.clear_session()"
   ]
  },
  {
   "cell_type": "code",
   "execution_count": 31,
   "id": "d43d43ee",
   "metadata": {},
   "outputs": [],
   "source": [
    "logdir='logs'\n",
    "tensorboard_callback = tf.keras.callbacks.TensorBoard(log_dir=logdir)"
   ]
  },
  {
   "cell_type": "code",
   "execution_count": 34,
   "id": "ffdffaed",
   "metadata": {},
   "outputs": [
    {
     "name": "stdout",
     "output_type": "stream",
     "text": [
      "Epoch 1/5\n",
      "113/113 [==============================] - 127s 623ms/step - loss: 0.4963 - accuracy: 0.8222 - val_loss: 0.2397 - val_accuracy: 0.9199\n",
      "Epoch 2/5\n",
      "113/113 [==============================] - 68s 601ms/step - loss: 0.2117 - accuracy: 0.9339 - val_loss: 0.1756 - val_accuracy: 0.9551\n",
      "Epoch 3/5\n",
      "113/113 [==============================] - 69s 608ms/step - loss: 0.1602 - accuracy: 0.9497 - val_loss: 0.1712 - val_accuracy: 0.9414\n",
      "Epoch 4/5\n",
      "113/113 [==============================] - 69s 605ms/step - loss: 0.1206 - accuracy: 0.9635 - val_loss: 0.1210 - val_accuracy: 0.9668\n",
      "Epoch 5/5\n",
      "113/113 [==============================] - 67s 592ms/step - loss: 0.0956 - accuracy: 0.9751 - val_loss: 0.0961 - val_accuracy: 0.9766\n"
     ]
    }
   ],
   "source": [
    "optimizer = tf.keras.optimizers.Adam(learning_rate=0.002)\n",
    "model.compile(optimizer=optimizer,\n",
    "              loss=tf.keras.losses.SparseCategoricalCrossentropy(from_logits=True),\n",
    "              metrics=['accuracy'])\n",
    "\n",
    "early_stopping = EarlyStopping(monitor='val_loss', patience=1, restore_best_weights=True)\n",
    "\n",
    "mobilenet_v2 = model.fit(train,  epochs=epochs, batch_size = batch_size, validation_data=val,\\\n",
    "                     callbacks=[tensorboard_callback, early_stopping])"
   ]
  },
  {
   "cell_type": "markdown",
   "id": "ca21bb0c",
   "metadata": {},
   "source": [
    "## Mobilenet_v2 evaluation <a class=\"anchor\" id=\"section_7_3\"></a>"
   ]
  },
  {
   "cell_type": "code",
   "execution_count": 35,
   "id": "3e8b34cd",
   "metadata": {},
   "outputs": [],
   "source": [
    "model.save('saved_models/mobilenet_v2.keras')"
   ]
  },
  {
   "cell_type": "code",
   "execution_count": 37,
   "id": "b133bf97",
   "metadata": {},
   "outputs": [
    {
     "name": "stdout",
     "output_type": "stream",
     "text": [
      "32/32 [==============================] - 20s 485ms/step - loss: 0.1689 - accuracy: 0.9385\n"
     ]
    },
    {
     "data": {
      "text/plain": [
       "[0.1688862144947052, 0.9384765625]"
      ]
     },
     "execution_count": 37,
     "metadata": {},
     "output_type": "execute_result"
    }
   ],
   "source": [
    "model.evaluate(test)"
   ]
  },
  {
   "cell_type": "code",
   "execution_count": 38,
   "id": "ad5d65cc",
   "metadata": {},
   "outputs": [
    {
     "data": {
      "image/png": "[encoded data removed]",
      "text/plain": [
       "<Figure size 640x480 with 1 Axes>"
      ]
     },
     "metadata": {},
     "output_type": "display_data"
    }
   ],
   "source": [
    "fig = plt.figure()\n",
    "plt.plot(mobilenet_v2.history['loss'], color='teal', label='loss')\n",
    "plt.plot(mobilenet_v2.history['val_loss'], color='orange', label='val_loss')\n",
    "plt.ylabel(\"Loss\")\n",
    "plt.xlabel(\"Epochs\")\n",
    "fig.suptitle('Loss', fontsize=20)\n",
    "plt.legend(loc=\"upper left\")\n",
    "plt.show()"
   ]
  },
  {
   "cell_type": "code",
   "execution_count": 39,
   "id": "130f3ce4",
   "metadata": {},
   "outputs": [
    {
     "data": {
      "image/png": "[encoded data removed]",
      "text/plain": [
       "<Figure size 640x480 with 1 Axes>"
      ]
     },
     "metadata": {},
     "output_type": "display_data"
    }
   ],
   "source": [
    "fig = plt.figure()\n",
    "plt.plot(mobilenet_v2.history['accuracy'], color='teal', label='accuracy')\n",
    "plt.plot(mobilenet_v2.history['val_accuracy'], color='orange', label='val_accuracy')\n",
    "plt.ylabel(\"Accuracy\")\n",
    "plt.xlabel(\"Epochs\")\n",
    "fig.suptitle('Accuracy', fontsize=20)\n",
    "plt.legend(loc=\"upper left\")\n",
    "plt.show()"
   ]
  },
  {
   "cell_type": "markdown",
   "id": "a0fcd080",
   "metadata": {},
   "source": [
    "## Conclusions  <a class=\"anchor\" id=\"section_7_4\"></a>\n",
    "\n",
    "MobileNet v2 was intentionally selected as we have limited computational resources. Since it has been trained with over 1.4M images, it significantly outperforms the previous two models. In just 5 epochs it reached almost 94% which according to research on the matter is quite a good result.  It looks like custom learning rate and early stopping were not actually needed to control the overfit. "
   ]
  },
  {
   "cell_type": "markdown",
   "id": "142fe080",
   "metadata": {},
   "source": [
    "### Project objectives: <a class=\"anchor\" id=\"section_1_1\"></a>"
   ]
  },
  {
   "cell_type": "markdown",
   "id": "72aecb24",
   "metadata": {},
   "source": [
    "<b>CNN</b>\n",
    " - https://viso.ai/deep-learning/vgg-very-deep-convolutional-networks/\n",
    " - https://datascientest.com/en/unveiling-the-secrets-of-the-vgg-model-a-deep-dive-with-daniel\n",
    " - https://datagen.tech/guides/computer-vision/vgg16/\n",
    " - https://medium.com/@mygreatlearning/everything-you-need-to-know-about-vgg16-7315defb5918</br>\n",
    "\n",
    "<b>ResNet</b>\n",
    " - https://viso.ai/deep-learning/resnet-residual-neural-network/\n",
    " - https://content.iospress.com/articles/journal-of-intelligent-and-fuzzy-systems/ifs210925\n",
    " - https://ieeexplore.ieee.org/document/8517574\n",
    " - https://www.ikomia.ai/blog/mastering-resnet-deep-learning-image-recognitiontransferl\n",
    "\n",
    "<b>Transfer learning</b>\n",
    " - https://www.v7labs.com/blog/transfer-learning-guide\n",
    " - https://www.sciencedirect.com/topics/computer-science/transfer-learning\n",
    " - https://paperswithcode.com/sota/transfer-learning-on-office-home\n",
    "\n",
    "<b>Other</b>\n",
    " - https://www.tensorflow.org/tutorials\n",
    " - https://www.tensorflow.org/model_optimization\n",
    " - https://www.softserveinc.com/en-us/blog/deep-learning-model-compression-and-optimization"
   ]
  }
 ],
 "metadata": {
  "kernelspec": {
   "display_name": "Python 3 (ipykernel)",
   "language": "python",
   "name": "python3"
  },
  "language_info": {
   "codemirror_mode": {
    "name": "ipython",
    "version": 3
   },
   "file_extension": ".py",
   "mimetype": "text/x-python",
   "name": "python",
   "nbconvert_exporter": "python",
   "pygments_lexer": "ipython3",
   "version": "3.10.9"
  }
 },
 "nbformat": 4,
 "nbformat_minor": 5
}
