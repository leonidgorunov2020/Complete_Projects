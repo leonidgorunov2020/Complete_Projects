{
 "cells": [
  {
   "cell_type": "code",
   "execution_count": 11,
   "id": "af92c56a",
   "metadata": {},
   "outputs": [
    {
     "name": "stdout",
     "output_type": "stream",
     "text": [
      "Initialised with 641 image(s) found.\n",
      "Output directory set to datasets/additional/roses/output."
     ]
    },
    {
     "name": "stderr",
     "output_type": "stream",
     "text": [
      "Processing <PIL.Image.Image image mode=RGB size=250x250 at 0x7FE0E9ECAD40>: 100%\n"
     ]
    }
   ],
   "source": [
    "import os\n",
    "import cv2\n",
    "import Augmentor"
   ]
  },
  {
   "cell_type": "markdown",
   "id": "49175627",
   "metadata": {},
   "source": [
    "# Purpose of this note book\n",
    "This notebook comes as an addition to the official project. I used it to generate more sample as the original dataset was imbalanced and the number of images per class and in total was not enough to achieve acceptable final results"
   ]
  },
  {
   "cell_type": "code",
   "execution_count": null,
   "id": "3157c304",
   "metadata": {},
   "outputs": [],
   "source": [
    "def read_images_from_folder(folder_path):\n",
    "    images = []\n",
    "    for filename in os.listdir(folder_path):\n",
    "        if filename.endswith(('.jpg', '.jpeg', '.png')):\n",
    "            img_path = os.path.join(folder_path, filename)\n",
    "            img = cv2.imread(img_path)\n",
    "            images.append(img)\n",
    "    return images\n",
    "\n",
    "def resize_images(images, target_size=(250, 250)):\n",
    "    resized_images = [cv2.resize(img, target_size) for img in images]\n",
    "    return resized_images\n",
    "\n",
    "def augment_images(images, output_folder, num_variations=5):\n",
    "    for i, img in enumerate(images):\n",
    "        # Convert BGR to RGB\n",
    "        img_rgb = cv2.cvtColor(img, cv2.COLOR_BGR2RGB)\n",
    "\n",
    "        # Augmentor works with PIL images, but we don't need to save them\n",
    "        image_path = os.path.join(output_folder, f\"image_{i}.jpg\")\n",
    "        cv2.imwrite(image_path, cv2.cvtColor(img_rgb, cv2.COLOR_RGB2BGR))\n",
    "\n",
    "    pipeline = Augmentor.Pipeline(output_folder)\n",
    "    pipeline.rotate(probability=0.7, max_left_rotation=10, max_right_rotation=10)\n",
    "    pipeline.flip_left_right(probability=0.5)\n",
    "    pipeline.flip_top_bottom(probability=0.5)\n",
    "    pipeline.zoom_random(probability=0.5, percentage_area=0.8)\n",
    "    pipeline.flip_random(probability=0.5)\n",
    "\n",
    "    pipeline.sample(num_variations)"
   ]
  },
  {
   "cell_type": "markdown",
   "id": "28d37be7",
   "metadata": {},
   "source": [
    "Here we start the execution by providing input and output folders, image size and number of variations. "
   ]
  },
  {
   "cell_type": "code",
   "execution_count": 13,
   "id": "c83ff24a",
   "metadata": {},
   "outputs": [
    {
     "name": "stdout",
     "output_type": "stream",
     "text": [
      "Initialised with 633 image(s) found.\n",
      "Output directory set to datasets/additional/daisy/output."
     ]
    },
    {
     "name": "stderr",
     "output_type": "stream",
     "text": [
      "Processing <PIL.Image.Image image mode=RGB size=250x250 at 0x7FE0E99D33D0>: 100%\n"
     ]
    }
   ],
   "source": [
    "if __name__ == \"__main__\":\n",
    "    input_folder = \"datasets/flower_photos_bkp/daisy\"\n",
    "    output_folder = \"datasets/additional/daisy\"\n",
    "    target_size = (250, 250)\n",
    "    num_variations = 400\n",
    "\n",
    "    images = read_images_from_folder(input_folder)\n",
    "    resized_images = resize_images(images, target_size=target_size)\n",
    "\n",
    "    augment_images(resized_images, output_folder, num_variations=num_variations)"
   ]
  },
  {
   "cell_type": "code",
   "execution_count": null,
   "id": "8a711c7d",
   "metadata": {},
   "outputs": [],
   "source": []
  }
 ],
 "metadata": {
  "kernelspec": {
   "display_name": "Python 3 (ipykernel)",
   "language": "python",
   "name": "python3"
  },
  "language_info": {
   "codemirror_mode": {
    "name": "ipython",
    "version": 3
   },
   "file_extension": ".py",
   "mimetype": "text/x-python",
   "name": "python",
   "nbconvert_exporter": "python",
   "pygments_lexer": "ipython3",
   "version": "3.10.9"
  }
 },
 "nbformat": 4,
 "nbformat_minor": 5
}
